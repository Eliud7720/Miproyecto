{
 "cells": [
  {
   "cell_type": "markdown",
   "metadata": {},
   "source": [
    "# Modelo\n",
    "<hr>"
   ]
  },
  {
   "cell_type": "code",
   "execution_count": 36,
   "metadata": {},
   "outputs": [],
   "source": [
    "import pandas as pd\n",
    "import numpy as np\n",
    "from rdkit import Chem\n",
    "from rdkit.Chem import AllChem\n",
    "from joblib import load\n",
    "\n",
    "\n",
    "def ModeloConsenso(smiles):\n",
    "\n",
    "    # Calcular huella de morgan\n",
    "    mol = Chem.MolFromSmiles(smiles)\n",
    "    fingerprint = AllChem.GetMorganFingerprintAsBitVect(mol, radius=2, nBits=2048)\n",
    "    fingerprint_list = list(fingerprint)\n",
    "    finger_array = np.array(fingerprint_list).reshape(1, -1)\n",
    "\n",
    "    # Crear un DataFrame con nombres de columnas ficticios\n",
    "    columns = [f'{i}' for i in range(finger_array.shape[1])]\n",
    "    finger_df = pd.DataFrame(finger_array, columns=columns)\n",
    "\n",
    "    # Importar modelos\n",
    "    SVM_model = load(\"../GuardadoDeModelos/modelo_SVM.joblib\")\n",
    "    RF_model = load(\"../GuardadoDeModelos/modelo_RF.joblib\")\n",
    "    XGB_model = load(\"../GuardadoDeModelos/modelo_XGBoost.joblib\")\n",
    "\n",
    "    # Calcular predicciones\n",
    "    y1 = SVM_model.predict(finger_df)\n",
    "    y1_prob = SVM_model.predict_proba(finger_df)\n",
    "\n",
    "    y2 = RF_model.predict(finger_df)\n",
    "    y2_prob = RF_model.predict_proba(finger_df)\n",
    "\n",
    "    y3 = XGB_model.predict(finger_df)\n",
    "    if y3 == 0:\n",
    "        y3 = [\"BBB+\"]\n",
    "    else:\n",
    "        y3 = [\"BBB-\"]\n",
    "    y3_prob = XGB_model.predict_proba(finger_df)\n",
    "\n",
    "    consensus_probability = ((y1_prob[0][0]+y2_prob[0][0]+y3_prob[0][0])/3)\n",
    "    clase = None\n",
    "\n",
    "    if (y1 == [\"BBB+\"]) and (y2 == [\"BBB+\"]) and (y3 == [\"BBB+\"]):\n",
    "        clase = \"BBB+\"\n",
    "    else:\n",
    "        clase = \"BBB-\"\n",
    "\n",
    "    return clase, consensus_probability"
   ]
  },
  {
   "cell_type": "markdown",
   "metadata": {},
   "source": [
    "# EGFR_ESR1\n",
    "<hr>"
   ]
  },
  {
   "cell_type": "code",
   "execution_count": 37,
   "metadata": {},
   "outputs": [],
   "source": [
    "import pandas as pd"
   ]
  },
  {
   "cell_type": "code",
   "execution_count": 38,
   "metadata": {},
   "outputs": [],
   "source": [
    "EGFR_ESR1_MAPK1 = pd.read_csv(\"../Resultados de la aplicacion/i_EGFR_ESR1_MAPK1.csv\")"
   ]
  },
  {
   "cell_type": "code",
   "execution_count": 39,
   "metadata": {},
   "outputs": [
    {
     "data": {
      "text/html": [
       "<div>\n",
       "<style scoped>\n",
       "    .dataframe tbody tr th:only-of-type {\n",
       "        vertical-align: middle;\n",
       "    }\n",
       "\n",
       "    .dataframe tbody tr th {\n",
       "        vertical-align: top;\n",
       "    }\n",
       "\n",
       "    .dataframe thead th {\n",
       "        text-align: right;\n",
       "    }\n",
       "</style>\n",
       "<table border=\"1\" class=\"dataframe\">\n",
       "  <thead>\n",
       "    <tr style=\"text-align: right;\">\n",
       "      <th></th>\n",
       "      <th>Molecule ChEMBL ID</th>\n",
       "      <th>Smiles</th>\n",
       "      <th>IC50 EGFR</th>\n",
       "      <th>IC50 MAPK1</th>\n",
       "      <th>IC50 SRC</th>\n",
       "    </tr>\n",
       "  </thead>\n",
       "  <tbody>\n",
       "    <tr>\n",
       "      <th>0</th>\n",
       "      <td>CHEMBL388978</td>\n",
       "      <td>CN[C@@H]1C[C@H]2O[C@@](C)([C@@H]1OC)n1c3ccccc3...</td>\n",
       "      <td>78.0</td>\n",
       "      <td>370.0</td>\n",
       "      <td>9.7</td>\n",
       "    </tr>\n",
       "    <tr>\n",
       "      <th>1</th>\n",
       "      <td>CHEMBL4062877</td>\n",
       "      <td>Cc1n[nH]c2ccc(-c3cc(N[C@@H](CO)c4ccccc4)cnc3-c...</td>\n",
       "      <td>5.3</td>\n",
       "      <td>574.7</td>\n",
       "      <td>5.7</td>\n",
       "    </tr>\n",
       "    <tr>\n",
       "      <th>2</th>\n",
       "      <td>CHEMBL4105329</td>\n",
       "      <td>Cc1n[nH]c2ccc(-c3cc(N[C@@H](CO)c4ccccc4)cnc3-c...</td>\n",
       "      <td>3.1</td>\n",
       "      <td>960.2</td>\n",
       "      <td>3.9</td>\n",
       "    </tr>\n",
       "    <tr>\n",
       "      <th>3</th>\n",
       "      <td>CHEMBL4568087</td>\n",
       "      <td>Cn1cc(-c2cnc3c(-c4csc(C(=O)N[C@@H]5CCCC[C@@H]5...</td>\n",
       "      <td>340.0</td>\n",
       "      <td>230.0</td>\n",
       "      <td>3.0</td>\n",
       "    </tr>\n",
       "  </tbody>\n",
       "</table>\n",
       "</div>"
      ],
      "text/plain": [
       "  Molecule ChEMBL ID                                             Smiles  \\\n",
       "0       CHEMBL388978  CN[C@@H]1C[C@H]2O[C@@](C)([C@@H]1OC)n1c3ccccc3...   \n",
       "1      CHEMBL4062877  Cc1n[nH]c2ccc(-c3cc(N[C@@H](CO)c4ccccc4)cnc3-c...   \n",
       "2      CHEMBL4105329  Cc1n[nH]c2ccc(-c3cc(N[C@@H](CO)c4ccccc4)cnc3-c...   \n",
       "3      CHEMBL4568087  Cn1cc(-c2cnc3c(-c4csc(C(=O)N[C@@H]5CCCC[C@@H]5...   \n",
       "\n",
       "   IC50 EGFR  IC50 MAPK1  IC50 SRC  \n",
       "0       78.0       370.0       9.7  \n",
       "1        5.3       574.7       5.7  \n",
       "2        3.1       960.2       3.9  \n",
       "3      340.0       230.0       3.0  "
      ]
     },
     "execution_count": 39,
     "metadata": {},
     "output_type": "execute_result"
    }
   ],
   "source": [
    "EGFR_ESR1_MAPK1"
   ]
  },
  {
   "cell_type": "code",
   "execution_count": 40,
   "metadata": {},
   "outputs": [],
   "source": [
    "EGFR_ESR1_MAPK1[[\"BBB\", \"Probab\"]] = EGFR_ESR1_MAPK1[\"Smiles\"].apply(ModeloConsenso).apply(pd.Series)"
   ]
  },
  {
   "cell_type": "code",
   "execution_count": 41,
   "metadata": {},
   "outputs": [
    {
     "data": {
      "text/html": [
       "<div>\n",
       "<style scoped>\n",
       "    .dataframe tbody tr th:only-of-type {\n",
       "        vertical-align: middle;\n",
       "    }\n",
       "\n",
       "    .dataframe tbody tr th {\n",
       "        vertical-align: top;\n",
       "    }\n",
       "\n",
       "    .dataframe thead th {\n",
       "        text-align: right;\n",
       "    }\n",
       "</style>\n",
       "<table border=\"1\" class=\"dataframe\">\n",
       "  <thead>\n",
       "    <tr style=\"text-align: right;\">\n",
       "      <th></th>\n",
       "      <th>Molecule ChEMBL ID</th>\n",
       "      <th>Smiles</th>\n",
       "      <th>IC50 EGFR</th>\n",
       "      <th>IC50 MAPK1</th>\n",
       "      <th>IC50 SRC</th>\n",
       "      <th>BBB</th>\n",
       "      <th>Probab</th>\n",
       "    </tr>\n",
       "  </thead>\n",
       "  <tbody>\n",
       "    <tr>\n",
       "      <th>0</th>\n",
       "      <td>CHEMBL388978</td>\n",
       "      <td>CN[C@@H]1C[C@H]2O[C@@](C)([C@@H]1OC)n1c3ccccc3...</td>\n",
       "      <td>78.0</td>\n",
       "      <td>370.0</td>\n",
       "      <td>9.7</td>\n",
       "      <td>BBB+</td>\n",
       "      <td>0.671382</td>\n",
       "    </tr>\n",
       "    <tr>\n",
       "      <th>1</th>\n",
       "      <td>CHEMBL4062877</td>\n",
       "      <td>Cc1n[nH]c2ccc(-c3cc(N[C@@H](CO)c4ccccc4)cnc3-c...</td>\n",
       "      <td>5.3</td>\n",
       "      <td>574.7</td>\n",
       "      <td>5.7</td>\n",
       "      <td>BBB+</td>\n",
       "      <td>0.665445</td>\n",
       "    </tr>\n",
       "    <tr>\n",
       "      <th>2</th>\n",
       "      <td>CHEMBL4105329</td>\n",
       "      <td>Cc1n[nH]c2ccc(-c3cc(N[C@@H](CO)c4ccccc4)cnc3-c...</td>\n",
       "      <td>3.1</td>\n",
       "      <td>960.2</td>\n",
       "      <td>3.9</td>\n",
       "      <td>BBB-</td>\n",
       "      <td>0.535315</td>\n",
       "    </tr>\n",
       "    <tr>\n",
       "      <th>3</th>\n",
       "      <td>CHEMBL4568087</td>\n",
       "      <td>Cn1cc(-c2cnc3c(-c4csc(C(=O)N[C@@H]5CCCC[C@@H]5...</td>\n",
       "      <td>340.0</td>\n",
       "      <td>230.0</td>\n",
       "      <td>3.0</td>\n",
       "      <td>BBB-</td>\n",
       "      <td>0.431750</td>\n",
       "    </tr>\n",
       "  </tbody>\n",
       "</table>\n",
       "</div>"
      ],
      "text/plain": [
       "  Molecule ChEMBL ID                                             Smiles  \\\n",
       "0       CHEMBL388978  CN[C@@H]1C[C@H]2O[C@@](C)([C@@H]1OC)n1c3ccccc3...   \n",
       "1      CHEMBL4062877  Cc1n[nH]c2ccc(-c3cc(N[C@@H](CO)c4ccccc4)cnc3-c...   \n",
       "2      CHEMBL4105329  Cc1n[nH]c2ccc(-c3cc(N[C@@H](CO)c4ccccc4)cnc3-c...   \n",
       "3      CHEMBL4568087  Cn1cc(-c2cnc3c(-c4csc(C(=O)N[C@@H]5CCCC[C@@H]5...   \n",
       "\n",
       "   IC50 EGFR  IC50 MAPK1  IC50 SRC   BBB    Probab  \n",
       "0       78.0       370.0       9.7  BBB+  0.671382  \n",
       "1        5.3       574.7       5.7  BBB+  0.665445  \n",
       "2        3.1       960.2       3.9  BBB-  0.535315  \n",
       "3      340.0       230.0       3.0  BBB-  0.431750  "
      ]
     },
     "execution_count": 41,
     "metadata": {},
     "output_type": "execute_result"
    }
   ],
   "source": [
    "EGFR_ESR1_MAPK1"
   ]
  },
  {
   "cell_type": "code",
   "execution_count": 42,
   "metadata": {},
   "outputs": [],
   "source": [
    "EGFR_ESR1_MAPK1.to_csv(\"EGFR_ESR1_MAPK1.csv\", index=False)"
   ]
  },
  {
   "cell_type": "markdown",
   "metadata": {},
   "source": [
    "# EGFR_MAPK1\n",
    "<hr>"
   ]
  },
  {
   "cell_type": "code",
   "execution_count": 43,
   "metadata": {},
   "outputs": [],
   "source": [
    "EGFR_MAPK1 = pd.read_csv(\"../Resultados de la aplicacion/i_EGFR_MAPK1.csv\")"
   ]
  },
  {
   "cell_type": "code",
   "execution_count": 44,
   "metadata": {},
   "outputs": [],
   "source": [
    "EGFR_MAPK1[[\"BBB\", \"Probab\"]] = EGFR_MAPK1[\"Smiles\"].apply(ModeloConsenso).apply(pd.Series)"
   ]
  },
  {
   "cell_type": "code",
   "execution_count": 45,
   "metadata": {},
   "outputs": [
    {
     "data": {
      "text/html": [
       "<div>\n",
       "<style scoped>\n",
       "    .dataframe tbody tr th:only-of-type {\n",
       "        vertical-align: middle;\n",
       "    }\n",
       "\n",
       "    .dataframe tbody tr th {\n",
       "        vertical-align: top;\n",
       "    }\n",
       "\n",
       "    .dataframe thead th {\n",
       "        text-align: right;\n",
       "    }\n",
       "</style>\n",
       "<table border=\"1\" class=\"dataframe\">\n",
       "  <thead>\n",
       "    <tr style=\"text-align: right;\">\n",
       "      <th></th>\n",
       "      <th>Molecule ChEMBL ID</th>\n",
       "      <th>Smiles</th>\n",
       "      <th>IC50 EGFR</th>\n",
       "      <th>IC50 MAPK1</th>\n",
       "      <th>BBB</th>\n",
       "      <th>Probab</th>\n",
       "    </tr>\n",
       "  </thead>\n",
       "  <tbody>\n",
       "    <tr>\n",
       "      <th>0</th>\n",
       "      <td>CHEMBL388978</td>\n",
       "      <td>CN[C@@H]1C[C@H]2O[C@@](C)([C@@H]1OC)n1c3ccccc3...</td>\n",
       "      <td>78.0</td>\n",
       "      <td>370.0</td>\n",
       "      <td>BBB+</td>\n",
       "      <td>0.671382</td>\n",
       "    </tr>\n",
       "    <tr>\n",
       "      <th>1</th>\n",
       "      <td>CHEMBL4062877</td>\n",
       "      <td>Cc1n[nH]c2ccc(-c3cc(N[C@@H](CO)c4ccccc4)cnc3-c...</td>\n",
       "      <td>5.3</td>\n",
       "      <td>574.7</td>\n",
       "      <td>BBB+</td>\n",
       "      <td>0.665445</td>\n",
       "    </tr>\n",
       "    <tr>\n",
       "      <th>2</th>\n",
       "      <td>CHEMBL290106</td>\n",
       "      <td>Oc1c(Cl)cc(Cl)cc1Sc1cc(Cl)cc(Cl)c1O</td>\n",
       "      <td>614.0</td>\n",
       "      <td>385.0</td>\n",
       "      <td>BBB-</td>\n",
       "      <td>0.043428</td>\n",
       "    </tr>\n",
       "    <tr>\n",
       "      <th>3</th>\n",
       "      <td>CHEMBL496</td>\n",
       "      <td>Oc1c(Cl)cc(Cl)c(Cl)c1Cc1c(O)c(Cl)cc(Cl)c1Cl</td>\n",
       "      <td>748.6</td>\n",
       "      <td>196.0</td>\n",
       "      <td>BBB-</td>\n",
       "      <td>0.304240</td>\n",
       "    </tr>\n",
       "    <tr>\n",
       "      <th>4</th>\n",
       "      <td>CHEMBL4105329</td>\n",
       "      <td>Cc1n[nH]c2ccc(-c3cc(N[C@@H](CO)c4ccccc4)cnc3-c...</td>\n",
       "      <td>3.1</td>\n",
       "      <td>960.2</td>\n",
       "      <td>BBB-</td>\n",
       "      <td>0.535315</td>\n",
       "    </tr>\n",
       "    <tr>\n",
       "      <th>5</th>\n",
       "      <td>CHEMBL4568087</td>\n",
       "      <td>Cn1cc(-c2cnc3c(-c4csc(C(=O)N[C@@H]5CCCC[C@@H]5...</td>\n",
       "      <td>340.0</td>\n",
       "      <td>230.0</td>\n",
       "      <td>BBB-</td>\n",
       "      <td>0.431750</td>\n",
       "    </tr>\n",
       "  </tbody>\n",
       "</table>\n",
       "</div>"
      ],
      "text/plain": [
       "  Molecule ChEMBL ID                                             Smiles  \\\n",
       "0       CHEMBL388978  CN[C@@H]1C[C@H]2O[C@@](C)([C@@H]1OC)n1c3ccccc3...   \n",
       "1      CHEMBL4062877  Cc1n[nH]c2ccc(-c3cc(N[C@@H](CO)c4ccccc4)cnc3-c...   \n",
       "2       CHEMBL290106                Oc1c(Cl)cc(Cl)cc1Sc1cc(Cl)cc(Cl)c1O   \n",
       "3          CHEMBL496        Oc1c(Cl)cc(Cl)c(Cl)c1Cc1c(O)c(Cl)cc(Cl)c1Cl   \n",
       "4      CHEMBL4105329  Cc1n[nH]c2ccc(-c3cc(N[C@@H](CO)c4ccccc4)cnc3-c...   \n",
       "5      CHEMBL4568087  Cn1cc(-c2cnc3c(-c4csc(C(=O)N[C@@H]5CCCC[C@@H]5...   \n",
       "\n",
       "   IC50 EGFR  IC50 MAPK1   BBB    Probab  \n",
       "0       78.0       370.0  BBB+  0.671382  \n",
       "1        5.3       574.7  BBB+  0.665445  \n",
       "2      614.0       385.0  BBB-  0.043428  \n",
       "3      748.6       196.0  BBB-  0.304240  \n",
       "4        3.1       960.2  BBB-  0.535315  \n",
       "5      340.0       230.0  BBB-  0.431750  "
      ]
     },
     "execution_count": 45,
     "metadata": {},
     "output_type": "execute_result"
    }
   ],
   "source": [
    "EGFR_MAPK1"
   ]
  },
  {
   "cell_type": "code",
   "execution_count": 46,
   "metadata": {},
   "outputs": [],
   "source": [
    "EGFR_MAPK1.to_csv(\"EGFR_MAPK1.csv\", index=False)"
   ]
  },
  {
   "cell_type": "markdown",
   "metadata": {},
   "source": [
    "# EGFR SRC\n",
    "<hr>"
   ]
  },
  {
   "cell_type": "code",
   "execution_count": 47,
   "metadata": {},
   "outputs": [],
   "source": [
    "EGFR_SRC = pd.read_csv(\"../Resultados de la aplicacion/i_EGFR_SRC.csv\")"
   ]
  },
  {
   "cell_type": "code",
   "execution_count": 48,
   "metadata": {},
   "outputs": [],
   "source": [
    "EGFR_SRC[[\"BBB\", \"Probab\"]] = EGFR_SRC[\"Smiles\"].apply(ModeloConsenso).apply(pd.Series)"
   ]
  },
  {
   "cell_type": "code",
   "execution_count": 50,
   "metadata": {},
   "outputs": [],
   "source": [
    "EGFR_SRC.to_csv(\"EGFR_SRC.csv\", index = False)"
   ]
  },
  {
   "cell_type": "markdown",
   "metadata": {},
   "source": [
    "# MAPK1 SRC\n",
    "<hr>"
   ]
  },
  {
   "cell_type": "code",
   "execution_count": 51,
   "metadata": {},
   "outputs": [],
   "source": [
    "MAPK1_SRC = pd.read_csv(\"../Resultados de la aplicacion/i_MAPK1_SRC.csv\")"
   ]
  },
  {
   "cell_type": "code",
   "execution_count": 52,
   "metadata": {},
   "outputs": [
    {
     "data": {
      "text/html": [
       "<div>\n",
       "<style scoped>\n",
       "    .dataframe tbody tr th:only-of-type {\n",
       "        vertical-align: middle;\n",
       "    }\n",
       "\n",
       "    .dataframe tbody tr th {\n",
       "        vertical-align: top;\n",
       "    }\n",
       "\n",
       "    .dataframe thead th {\n",
       "        text-align: right;\n",
       "    }\n",
       "</style>\n",
       "<table border=\"1\" class=\"dataframe\">\n",
       "  <thead>\n",
       "    <tr style=\"text-align: right;\">\n",
       "      <th></th>\n",
       "      <th>Molecule ChEMBL ID</th>\n",
       "      <th>Smiles</th>\n",
       "      <th>IC50 MAPK1</th>\n",
       "      <th>IC50 SRC</th>\n",
       "    </tr>\n",
       "  </thead>\n",
       "  <tbody>\n",
       "    <tr>\n",
       "      <th>0</th>\n",
       "      <td>CHEMBL388978</td>\n",
       "      <td>CN[C@@H]1C[C@H]2O[C@@](C)([C@@H]1OC)n1c3ccccc3...</td>\n",
       "      <td>370.0</td>\n",
       "      <td>9.7</td>\n",
       "    </tr>\n",
       "    <tr>\n",
       "      <th>1</th>\n",
       "      <td>CHEMBL4105329</td>\n",
       "      <td>Cc1n[nH]c2ccc(-c3cc(N[C@@H](CO)c4ccccc4)cnc3-c...</td>\n",
       "      <td>960.2</td>\n",
       "      <td>3.9</td>\n",
       "    </tr>\n",
       "    <tr>\n",
       "      <th>2</th>\n",
       "      <td>CHEMBL4062877</td>\n",
       "      <td>Cc1n[nH]c2ccc(-c3cc(N[C@@H](CO)c4ccccc4)cnc3-c...</td>\n",
       "      <td>574.7</td>\n",
       "      <td>5.7</td>\n",
       "    </tr>\n",
       "    <tr>\n",
       "      <th>3</th>\n",
       "      <td>CHEMBL4568087</td>\n",
       "      <td>Cn1cc(-c2cnc3c(-c4csc(C(=O)N[C@@H]5CCCC[C@@H]5...</td>\n",
       "      <td>230.0</td>\n",
       "      <td>3.0</td>\n",
       "    </tr>\n",
       "    <tr>\n",
       "      <th>4</th>\n",
       "      <td>CHEMBL1336</td>\n",
       "      <td>CNC(=O)c1cc(Oc2ccc(NC(=O)Nc3ccc(Cl)c(C(F)(F)F)...</td>\n",
       "      <td>109.5</td>\n",
       "      <td>390.0</td>\n",
       "    </tr>\n",
       "  </tbody>\n",
       "</table>\n",
       "</div>"
      ],
      "text/plain": [
       "  Molecule ChEMBL ID                                             Smiles  \\\n",
       "0       CHEMBL388978  CN[C@@H]1C[C@H]2O[C@@](C)([C@@H]1OC)n1c3ccccc3...   \n",
       "1      CHEMBL4105329  Cc1n[nH]c2ccc(-c3cc(N[C@@H](CO)c4ccccc4)cnc3-c...   \n",
       "2      CHEMBL4062877  Cc1n[nH]c2ccc(-c3cc(N[C@@H](CO)c4ccccc4)cnc3-c...   \n",
       "3      CHEMBL4568087  Cn1cc(-c2cnc3c(-c4csc(C(=O)N[C@@H]5CCCC[C@@H]5...   \n",
       "4         CHEMBL1336  CNC(=O)c1cc(Oc2ccc(NC(=O)Nc3ccc(Cl)c(C(F)(F)F)...   \n",
       "\n",
       "   IC50 MAPK1  IC50 SRC  \n",
       "0       370.0       9.7  \n",
       "1       960.2       3.9  \n",
       "2       574.7       5.7  \n",
       "3       230.0       3.0  \n",
       "4       109.5     390.0  "
      ]
     },
     "execution_count": 52,
     "metadata": {},
     "output_type": "execute_result"
    }
   ],
   "source": [
    "MAPK1_SRC"
   ]
  },
  {
   "cell_type": "code",
   "execution_count": 53,
   "metadata": {},
   "outputs": [],
   "source": [
    "MAPK1_SRC[[\"BBB\", \"Probab\"]] = MAPK1_SRC[\"Smiles\"].apply(ModeloConsenso).apply(pd.Series)"
   ]
  },
  {
   "cell_type": "code",
   "execution_count": 54,
   "metadata": {},
   "outputs": [
    {
     "data": {
      "text/html": [
       "<div>\n",
       "<style scoped>\n",
       "    .dataframe tbody tr th:only-of-type {\n",
       "        vertical-align: middle;\n",
       "    }\n",
       "\n",
       "    .dataframe tbody tr th {\n",
       "        vertical-align: top;\n",
       "    }\n",
       "\n",
       "    .dataframe thead th {\n",
       "        text-align: right;\n",
       "    }\n",
       "</style>\n",
       "<table border=\"1\" class=\"dataframe\">\n",
       "  <thead>\n",
       "    <tr style=\"text-align: right;\">\n",
       "      <th></th>\n",
       "      <th>Molecule ChEMBL ID</th>\n",
       "      <th>Smiles</th>\n",
       "      <th>IC50 MAPK1</th>\n",
       "      <th>IC50 SRC</th>\n",
       "      <th>BBB</th>\n",
       "      <th>Probab</th>\n",
       "    </tr>\n",
       "  </thead>\n",
       "  <tbody>\n",
       "    <tr>\n",
       "      <th>0</th>\n",
       "      <td>CHEMBL388978</td>\n",
       "      <td>CN[C@@H]1C[C@H]2O[C@@](C)([C@@H]1OC)n1c3ccccc3...</td>\n",
       "      <td>370.0</td>\n",
       "      <td>9.7</td>\n",
       "      <td>BBB+</td>\n",
       "      <td>0.671382</td>\n",
       "    </tr>\n",
       "    <tr>\n",
       "      <th>1</th>\n",
       "      <td>CHEMBL4105329</td>\n",
       "      <td>Cc1n[nH]c2ccc(-c3cc(N[C@@H](CO)c4ccccc4)cnc3-c...</td>\n",
       "      <td>960.2</td>\n",
       "      <td>3.9</td>\n",
       "      <td>BBB-</td>\n",
       "      <td>0.535315</td>\n",
       "    </tr>\n",
       "    <tr>\n",
       "      <th>2</th>\n",
       "      <td>CHEMBL4062877</td>\n",
       "      <td>Cc1n[nH]c2ccc(-c3cc(N[C@@H](CO)c4ccccc4)cnc3-c...</td>\n",
       "      <td>574.7</td>\n",
       "      <td>5.7</td>\n",
       "      <td>BBB+</td>\n",
       "      <td>0.665445</td>\n",
       "    </tr>\n",
       "    <tr>\n",
       "      <th>3</th>\n",
       "      <td>CHEMBL4568087</td>\n",
       "      <td>Cn1cc(-c2cnc3c(-c4csc(C(=O)N[C@@H]5CCCC[C@@H]5...</td>\n",
       "      <td>230.0</td>\n",
       "      <td>3.0</td>\n",
       "      <td>BBB-</td>\n",
       "      <td>0.431750</td>\n",
       "    </tr>\n",
       "    <tr>\n",
       "      <th>4</th>\n",
       "      <td>CHEMBL1336</td>\n",
       "      <td>CNC(=O)c1cc(Oc2ccc(NC(=O)Nc3ccc(Cl)c(C(F)(F)F)...</td>\n",
       "      <td>109.5</td>\n",
       "      <td>390.0</td>\n",
       "      <td>BBB+</td>\n",
       "      <td>0.921370</td>\n",
       "    </tr>\n",
       "  </tbody>\n",
       "</table>\n",
       "</div>"
      ],
      "text/plain": [
       "  Molecule ChEMBL ID                                             Smiles  \\\n",
       "0       CHEMBL388978  CN[C@@H]1C[C@H]2O[C@@](C)([C@@H]1OC)n1c3ccccc3...   \n",
       "1      CHEMBL4105329  Cc1n[nH]c2ccc(-c3cc(N[C@@H](CO)c4ccccc4)cnc3-c...   \n",
       "2      CHEMBL4062877  Cc1n[nH]c2ccc(-c3cc(N[C@@H](CO)c4ccccc4)cnc3-c...   \n",
       "3      CHEMBL4568087  Cn1cc(-c2cnc3c(-c4csc(C(=O)N[C@@H]5CCCC[C@@H]5...   \n",
       "4         CHEMBL1336  CNC(=O)c1cc(Oc2ccc(NC(=O)Nc3ccc(Cl)c(C(F)(F)F)...   \n",
       "\n",
       "   IC50 MAPK1  IC50 SRC   BBB    Probab  \n",
       "0       370.0       9.7  BBB+  0.671382  \n",
       "1       960.2       3.9  BBB-  0.535315  \n",
       "2       574.7       5.7  BBB+  0.665445  \n",
       "3       230.0       3.0  BBB-  0.431750  \n",
       "4       109.5     390.0  BBB+  0.921370  "
      ]
     },
     "execution_count": 54,
     "metadata": {},
     "output_type": "execute_result"
    }
   ],
   "source": [
    "MAPK1_SRC"
   ]
  },
  {
   "cell_type": "code",
   "execution_count": 55,
   "metadata": {},
   "outputs": [],
   "source": [
    "MAPK1_SRC.to_csv(\"MAPK1_SRC.csv\", index = False)"
   ]
  },
  {
   "cell_type": "code",
   "execution_count": null,
   "metadata": {},
   "outputs": [],
   "source": []
  }
 ],
 "metadata": {
  "kernelspec": {
   "display_name": "Python 3",
   "language": "python",
   "name": "python3"
  },
  "language_info": {
   "codemirror_mode": {
    "name": "ipython",
    "version": 3
   },
   "file_extension": ".py",
   "mimetype": "text/x-python",
   "name": "python",
   "nbconvert_exporter": "python",
   "pygments_lexer": "ipython3",
   "version": "3.11.0"
  }
 },
 "nbformat": 4,
 "nbformat_minor": 2
}
