{
 "cells": [
  {
   "cell_type": "markdown",
   "metadata": {},
   "source": [
    "# Entrenamiento con datos de entrenamiento\n",
    "<hr>"
   ]
  },
  {
   "cell_type": "code",
   "execution_count": 13,
   "metadata": {},
   "outputs": [],
   "source": [
    "from sklearn.model_selection import train_test_split, GridSearchCV\n",
    "from sklearn.pipeline import Pipeline\n",
    "from sklearn.decomposition import PCA\n",
    "from xgboost import XGBClassifier\n",
    "from sklearn.preprocessing import LabelEncoder\n",
    "from sklearn.metrics import accuracy_score\n",
    "from sklearn.metrics import recall_score\n",
    "from sklearn.metrics import precision_score\n",
    "from sklearn.metrics import f1_score\n",
    "import pandas as pd"
   ]
  },
  {
   "cell_type": "code",
   "execution_count": 3,
   "metadata": {},
   "outputs": [],
   "source": [
    "df = pd.read_csv(\"../Datos tratados/Datos_con_ECFP.csv\")"
   ]
  },
  {
   "cell_type": "code",
   "execution_count": 4,
   "metadata": {},
   "outputs": [],
   "source": [
    "X = df.drop(columns=[\"MorganFP\", \"SMILES\",\"BBB+/BBB-\", \"group\"])\n",
    "y = df[\"BBB+/BBB-\"]"
   ]
  },
  {
   "cell_type": "code",
   "execution_count": 17,
   "metadata": {},
   "outputs": [],
   "source": [
    "labelencoder = LabelEncoder()"
   ]
  },
  {
   "cell_type": "code",
   "execution_count": 18,
   "metadata": {},
   "outputs": [],
   "source": [
    "y_train_encoded = labelencoder.fit_transform(y)"
   ]
  },
  {
   "cell_type": "code",
   "execution_count": 21,
   "metadata": {},
   "outputs": [
    {
     "data": {
      "text/plain": [
       "0       BBB-\n",
       "1       BBB-\n",
       "2       BBB-\n",
       "3       BBB-\n",
       "4       BBB-\n",
       "        ... \n",
       "7802    BBB-\n",
       "7803    BBB+\n",
       "7804    BBB+\n",
       "7805    BBB-\n",
       "7806    BBB-\n",
       "Name: BBB+/BBB-, Length: 7807, dtype: object"
      ]
     },
     "execution_count": 21,
     "metadata": {},
     "output_type": "execute_result"
    }
   ],
   "source": [
    "y"
   ]
  },
  {
   "cell_type": "code",
   "execution_count": 20,
   "metadata": {},
   "outputs": [
    {
     "data": {
      "text/plain": [
       "array([1, 1, 1, ..., 0, 1, 1])"
      ]
     },
     "execution_count": 20,
     "metadata": {},
     "output_type": "execute_result"
    }
   ],
   "source": [
    "y_train_encoded\n",
    "# Negativo = 1\n",
    "# Positivo = 0"
   ]
  },
  {
   "cell_type": "code",
   "execution_count": 22,
   "metadata": {},
   "outputs": [
    {
     "data": {
      "text/plain": [
       "array(['BBB+', 'BBB-'], dtype=object)"
      ]
     },
     "execution_count": 22,
     "metadata": {},
     "output_type": "execute_result"
    }
   ],
   "source": [
    "labelencoder.classes_"
   ]
  },
  {
   "cell_type": "code",
   "execution_count": 23,
   "metadata": {},
   "outputs": [
    {
     "name": "stdout",
     "output_type": "stream",
     "text": [
      "Codificación de etiquetas: {'BBB+': 0, 'BBB-': 1}\n"
     ]
    }
   ],
   "source": [
    "print(\"Codificación de etiquetas:\", dict(zip(labelencoder.classes_, labelencoder.transform(labelencoder.classes_))))"
   ]
  },
  {
   "cell_type": "code",
   "execution_count": 29,
   "metadata": {},
   "outputs": [],
   "source": [
    "X_train, X_test, y_train, y_test = train_test_split(X, y_train_encoded, test_size=0.2, random_state=42)"
   ]
  },
  {
   "cell_type": "code",
   "execution_count": 30,
   "metadata": {},
   "outputs": [],
   "source": [
    "pipe = Pipeline([\n",
    "    ('pca', PCA()),\n",
    "    ('xgb', XGBClassifier())\n",
    "])"
   ]
  },
  {
   "cell_type": "code",
   "execution_count": 31,
   "metadata": {},
   "outputs": [],
   "source": [
    "param_grid = {\n",
    "    'pca__n_components': [314],  # Ejemplo de opciones para el número de componentes en PCA\n",
    "    'xgb__n_estimators': [100, 200, 300],\n",
    "    'xgb__learning_rate': [1, 0.1, 0.01],\n",
    "    'xgb__max_depth': [10, 20, 30, 40, 50]\n",
    "}"
   ]
  },
  {
   "cell_type": "code",
   "execution_count": 32,
   "metadata": {},
   "outputs": [],
   "source": [
    "grid_search = GridSearchCV(estimator=pipe, param_grid=param_grid, cv=5, scoring='accuracy', verbose=2)"
   ]
  },
  {
   "cell_type": "code",
   "execution_count": 33,
   "metadata": {},
   "outputs": [
    {
     "name": "stdout",
     "output_type": "stream",
     "text": [
      "Fitting 5 folds for each of 45 candidates, totalling 225 fits\n",
      "[CV] END pca__n_components=314, xgb__learning_rate=1, xgb__max_depth=10, xgb__n_estimators=100; total time=   4.0s\n",
      "[CV] END pca__n_components=314, xgb__learning_rate=1, xgb__max_depth=10, xgb__n_estimators=100; total time=   3.7s\n",
      "[CV] END pca__n_components=314, xgb__learning_rate=1, xgb__max_depth=10, xgb__n_estimators=100; total time=   3.7s\n",
      "[CV] END pca__n_components=314, xgb__learning_rate=1, xgb__max_depth=10, xgb__n_estimators=100; total time=   3.6s\n",
      "[CV] END pca__n_components=314, xgb__learning_rate=1, xgb__max_depth=10, xgb__n_estimators=100; total time=   3.6s\n",
      "[CV] END pca__n_components=314, xgb__learning_rate=1, xgb__max_depth=10, xgb__n_estimators=200; total time=   5.7s\n",
      "[CV] END pca__n_components=314, xgb__learning_rate=1, xgb__max_depth=10, xgb__n_estimators=200; total time=   5.7s\n",
      "[CV] END pca__n_components=314, xgb__learning_rate=1, xgb__max_depth=10, xgb__n_estimators=200; total time=   5.4s\n",
      "[CV] END pca__n_components=314, xgb__learning_rate=1, xgb__max_depth=10, xgb__n_estimators=200; total time=   5.5s\n",
      "[CV] END pca__n_components=314, xgb__learning_rate=1, xgb__max_depth=10, xgb__n_estimators=200; total time=   5.6s\n",
      "[CV] END pca__n_components=314, xgb__learning_rate=1, xgb__max_depth=10, xgb__n_estimators=300; total time=   8.0s\n",
      "[CV] END pca__n_components=314, xgb__learning_rate=1, xgb__max_depth=10, xgb__n_estimators=300; total time=   7.9s\n",
      "[CV] END pca__n_components=314, xgb__learning_rate=1, xgb__max_depth=10, xgb__n_estimators=300; total time=   7.3s\n",
      "[CV] END pca__n_components=314, xgb__learning_rate=1, xgb__max_depth=10, xgb__n_estimators=300; total time=   7.4s\n",
      "[CV] END pca__n_components=314, xgb__learning_rate=1, xgb__max_depth=10, xgb__n_estimators=300; total time=   7.9s\n",
      "[CV] END pca__n_components=314, xgb__learning_rate=1, xgb__max_depth=20, xgb__n_estimators=100; total time=   4.8s\n",
      "[CV] END pca__n_components=314, xgb__learning_rate=1, xgb__max_depth=20, xgb__n_estimators=100; total time=   4.6s\n",
      "[CV] END pca__n_components=314, xgb__learning_rate=1, xgb__max_depth=20, xgb__n_estimators=100; total time=   4.3s\n",
      "[CV] END pca__n_components=314, xgb__learning_rate=1, xgb__max_depth=20, xgb__n_estimators=100; total time=   4.4s\n",
      "[CV] END pca__n_components=314, xgb__learning_rate=1, xgb__max_depth=20, xgb__n_estimators=100; total time=   4.5s\n",
      "[CV] END pca__n_components=314, xgb__learning_rate=1, xgb__max_depth=20, xgb__n_estimators=200; total time=   7.2s\n",
      "[CV] END pca__n_components=314, xgb__learning_rate=1, xgb__max_depth=20, xgb__n_estimators=200; total time=   8.1s\n",
      "[CV] END pca__n_components=314, xgb__learning_rate=1, xgb__max_depth=20, xgb__n_estimators=200; total time=   7.9s\n",
      "[CV] END pca__n_components=314, xgb__learning_rate=1, xgb__max_depth=20, xgb__n_estimators=200; total time=   8.1s\n",
      "[CV] END pca__n_components=314, xgb__learning_rate=1, xgb__max_depth=20, xgb__n_estimators=200; total time=   8.0s\n",
      "[CV] END pca__n_components=314, xgb__learning_rate=1, xgb__max_depth=20, xgb__n_estimators=300; total time=  10.7s\n",
      "[CV] END pca__n_components=314, xgb__learning_rate=1, xgb__max_depth=20, xgb__n_estimators=300; total time=   9.5s\n",
      "[CV] END pca__n_components=314, xgb__learning_rate=1, xgb__max_depth=20, xgb__n_estimators=300; total time=  10.3s\n",
      "[CV] END pca__n_components=314, xgb__learning_rate=1, xgb__max_depth=20, xgb__n_estimators=300; total time=  10.4s\n",
      "[CV] END pca__n_components=314, xgb__learning_rate=1, xgb__max_depth=20, xgb__n_estimators=300; total time=   8.9s\n",
      "[CV] END pca__n_components=314, xgb__learning_rate=1, xgb__max_depth=30, xgb__n_estimators=100; total time=   4.8s\n",
      "[CV] END pca__n_components=314, xgb__learning_rate=1, xgb__max_depth=30, xgb__n_estimators=100; total time=   5.2s\n",
      "[CV] END pca__n_components=314, xgb__learning_rate=1, xgb__max_depth=30, xgb__n_estimators=100; total time=   4.5s\n",
      "[CV] END pca__n_components=314, xgb__learning_rate=1, xgb__max_depth=30, xgb__n_estimators=100; total time=   5.0s\n",
      "[CV] END pca__n_components=314, xgb__learning_rate=1, xgb__max_depth=30, xgb__n_estimators=100; total time=   4.4s\n",
      "[CV] END pca__n_components=314, xgb__learning_rate=1, xgb__max_depth=30, xgb__n_estimators=200; total time=   7.0s\n",
      "[CV] END pca__n_components=314, xgb__learning_rate=1, xgb__max_depth=30, xgb__n_estimators=200; total time=   7.1s\n",
      "[CV] END pca__n_components=314, xgb__learning_rate=1, xgb__max_depth=30, xgb__n_estimators=200; total time=   6.9s\n",
      "[CV] END pca__n_components=314, xgb__learning_rate=1, xgb__max_depth=30, xgb__n_estimators=200; total time=   7.0s\n",
      "[CV] END pca__n_components=314, xgb__learning_rate=1, xgb__max_depth=30, xgb__n_estimators=200; total time=   6.4s\n",
      "[CV] END pca__n_components=314, xgb__learning_rate=1, xgb__max_depth=30, xgb__n_estimators=300; total time=   9.4s\n",
      "[CV] END pca__n_components=314, xgb__learning_rate=1, xgb__max_depth=30, xgb__n_estimators=300; total time=   9.2s\n",
      "[CV] END pca__n_components=314, xgb__learning_rate=1, xgb__max_depth=30, xgb__n_estimators=300; total time=   9.2s\n",
      "[CV] END pca__n_components=314, xgb__learning_rate=1, xgb__max_depth=30, xgb__n_estimators=300; total time=   8.7s\n",
      "[CV] END pca__n_components=314, xgb__learning_rate=1, xgb__max_depth=30, xgb__n_estimators=300; total time=   9.2s\n",
      "[CV] END pca__n_components=314, xgb__learning_rate=1, xgb__max_depth=40, xgb__n_estimators=100; total time=   5.0s\n",
      "[CV] END pca__n_components=314, xgb__learning_rate=1, xgb__max_depth=40, xgb__n_estimators=100; total time=   5.2s\n",
      "[CV] END pca__n_components=314, xgb__learning_rate=1, xgb__max_depth=40, xgb__n_estimators=100; total time=   4.8s\n",
      "[CV] END pca__n_components=314, xgb__learning_rate=1, xgb__max_depth=40, xgb__n_estimators=100; total time=   5.6s\n",
      "[CV] END pca__n_components=314, xgb__learning_rate=1, xgb__max_depth=40, xgb__n_estimators=100; total time=   5.1s\n",
      "[CV] END pca__n_components=314, xgb__learning_rate=1, xgb__max_depth=40, xgb__n_estimators=200; total time=   7.2s\n",
      "[CV] END pca__n_components=314, xgb__learning_rate=1, xgb__max_depth=40, xgb__n_estimators=200; total time=   7.3s\n",
      "[CV] END pca__n_components=314, xgb__learning_rate=1, xgb__max_depth=40, xgb__n_estimators=200; total time=   6.4s\n",
      "[CV] END pca__n_components=314, xgb__learning_rate=1, xgb__max_depth=40, xgb__n_estimators=200; total time=   7.7s\n",
      "[CV] END pca__n_components=314, xgb__learning_rate=1, xgb__max_depth=40, xgb__n_estimators=200; total time=   7.1s\n",
      "[CV] END pca__n_components=314, xgb__learning_rate=1, xgb__max_depth=40, xgb__n_estimators=300; total time=   9.4s\n",
      "[CV] END pca__n_components=314, xgb__learning_rate=1, xgb__max_depth=40, xgb__n_estimators=300; total time=   9.3s\n",
      "[CV] END pca__n_components=314, xgb__learning_rate=1, xgb__max_depth=40, xgb__n_estimators=300; total time=   8.7s\n",
      "[CV] END pca__n_components=314, xgb__learning_rate=1, xgb__max_depth=40, xgb__n_estimators=300; total time=   9.1s\n",
      "[CV] END pca__n_components=314, xgb__learning_rate=1, xgb__max_depth=40, xgb__n_estimators=300; total time=   9.4s\n",
      "[CV] END pca__n_components=314, xgb__learning_rate=1, xgb__max_depth=50, xgb__n_estimators=100; total time=   5.1s\n",
      "[CV] END pca__n_components=314, xgb__learning_rate=1, xgb__max_depth=50, xgb__n_estimators=100; total time=   4.7s\n",
      "[CV] END pca__n_components=314, xgb__learning_rate=1, xgb__max_depth=50, xgb__n_estimators=100; total time=   4.6s\n",
      "[CV] END pca__n_components=314, xgb__learning_rate=1, xgb__max_depth=50, xgb__n_estimators=100; total time=   4.8s\n",
      "[CV] END pca__n_components=314, xgb__learning_rate=1, xgb__max_depth=50, xgb__n_estimators=100; total time=   4.8s\n",
      "[CV] END pca__n_components=314, xgb__learning_rate=1, xgb__max_depth=50, xgb__n_estimators=200; total time=   7.0s\n",
      "[CV] END pca__n_components=314, xgb__learning_rate=1, xgb__max_depth=50, xgb__n_estimators=200; total time=   7.5s\n",
      "[CV] END pca__n_components=314, xgb__learning_rate=1, xgb__max_depth=50, xgb__n_estimators=200; total time=   6.8s\n",
      "[CV] END pca__n_components=314, xgb__learning_rate=1, xgb__max_depth=50, xgb__n_estimators=200; total time=   7.2s\n",
      "[CV] END pca__n_components=314, xgb__learning_rate=1, xgb__max_depth=50, xgb__n_estimators=200; total time=   6.6s\n",
      "[CV] END pca__n_components=314, xgb__learning_rate=1, xgb__max_depth=50, xgb__n_estimators=300; total time=   9.5s\n",
      "[CV] END pca__n_components=314, xgb__learning_rate=1, xgb__max_depth=50, xgb__n_estimators=300; total time=   8.9s\n",
      "[CV] END pca__n_components=314, xgb__learning_rate=1, xgb__max_depth=50, xgb__n_estimators=300; total time=   8.8s\n",
      "[CV] END pca__n_components=314, xgb__learning_rate=1, xgb__max_depth=50, xgb__n_estimators=300; total time=   9.6s\n",
      "[CV] END pca__n_components=314, xgb__learning_rate=1, xgb__max_depth=50, xgb__n_estimators=300; total time=   9.5s\n",
      "[CV] END pca__n_components=314, xgb__learning_rate=0.1, xgb__max_depth=10, xgb__n_estimators=100; total time=   5.6s\n",
      "[CV] END pca__n_components=314, xgb__learning_rate=0.1, xgb__max_depth=10, xgb__n_estimators=100; total time=   5.8s\n",
      "[CV] END pca__n_components=314, xgb__learning_rate=0.1, xgb__max_depth=10, xgb__n_estimators=100; total time=   5.8s\n",
      "[CV] END pca__n_components=314, xgb__learning_rate=0.1, xgb__max_depth=10, xgb__n_estimators=100; total time=   5.6s\n",
      "[CV] END pca__n_components=314, xgb__learning_rate=0.1, xgb__max_depth=10, xgb__n_estimators=100; total time=   5.7s\n",
      "[CV] END pca__n_components=314, xgb__learning_rate=0.1, xgb__max_depth=10, xgb__n_estimators=200; total time=   8.7s\n",
      "[CV] END pca__n_components=314, xgb__learning_rate=0.1, xgb__max_depth=10, xgb__n_estimators=200; total time=   8.4s\n",
      "[CV] END pca__n_components=314, xgb__learning_rate=0.1, xgb__max_depth=10, xgb__n_estimators=200; total time=   8.5s\n",
      "[CV] END pca__n_components=314, xgb__learning_rate=0.1, xgb__max_depth=10, xgb__n_estimators=200; total time=   8.4s\n",
      "[CV] END pca__n_components=314, xgb__learning_rate=0.1, xgb__max_depth=10, xgb__n_estimators=200; total time=   8.8s\n",
      "[CV] END pca__n_components=314, xgb__learning_rate=0.1, xgb__max_depth=10, xgb__n_estimators=300; total time=  12.9s\n",
      "[CV] END pca__n_components=314, xgb__learning_rate=0.1, xgb__max_depth=10, xgb__n_estimators=300; total time=  13.6s\n",
      "[CV] END pca__n_components=314, xgb__learning_rate=0.1, xgb__max_depth=10, xgb__n_estimators=300; total time=  11.5s\n",
      "[CV] END pca__n_components=314, xgb__learning_rate=0.1, xgb__max_depth=10, xgb__n_estimators=300; total time=  11.9s\n",
      "[CV] END pca__n_components=314, xgb__learning_rate=0.1, xgb__max_depth=10, xgb__n_estimators=300; total time=  11.2s\n",
      "[CV] END pca__n_components=314, xgb__learning_rate=0.1, xgb__max_depth=20, xgb__n_estimators=100; total time=  10.3s\n",
      "[CV] END pca__n_components=314, xgb__learning_rate=0.1, xgb__max_depth=20, xgb__n_estimators=100; total time=  10.4s\n",
      "[CV] END pca__n_components=314, xgb__learning_rate=0.1, xgb__max_depth=20, xgb__n_estimators=100; total time=  10.2s\n",
      "[CV] END pca__n_components=314, xgb__learning_rate=0.1, xgb__max_depth=20, xgb__n_estimators=100; total time=  10.4s\n",
      "[CV] END pca__n_components=314, xgb__learning_rate=0.1, xgb__max_depth=20, xgb__n_estimators=100; total time=  10.4s\n",
      "[CV] END pca__n_components=314, xgb__learning_rate=0.1, xgb__max_depth=20, xgb__n_estimators=200; total time=  13.9s\n",
      "[CV] END pca__n_components=314, xgb__learning_rate=0.1, xgb__max_depth=20, xgb__n_estimators=200; total time=  13.2s\n",
      "[CV] END pca__n_components=314, xgb__learning_rate=0.1, xgb__max_depth=20, xgb__n_estimators=200; total time=  13.3s\n",
      "[CV] END pca__n_components=314, xgb__learning_rate=0.1, xgb__max_depth=20, xgb__n_estimators=200; total time=  14.3s\n",
      "[CV] END pca__n_components=314, xgb__learning_rate=0.1, xgb__max_depth=20, xgb__n_estimators=200; total time=  13.9s\n",
      "[CV] END pca__n_components=314, xgb__learning_rate=0.1, xgb__max_depth=20, xgb__n_estimators=300; total time=  17.1s\n",
      "[CV] END pca__n_components=314, xgb__learning_rate=0.1, xgb__max_depth=20, xgb__n_estimators=300; total time=  17.3s\n",
      "[CV] END pca__n_components=314, xgb__learning_rate=0.1, xgb__max_depth=20, xgb__n_estimators=300; total time=  16.6s\n",
      "[CV] END pca__n_components=314, xgb__learning_rate=0.1, xgb__max_depth=20, xgb__n_estimators=300; total time=  17.9s\n",
      "[CV] END pca__n_components=314, xgb__learning_rate=0.1, xgb__max_depth=20, xgb__n_estimators=300; total time=  17.2s\n",
      "[CV] END pca__n_components=314, xgb__learning_rate=0.1, xgb__max_depth=30, xgb__n_estimators=100; total time=  10.5s\n",
      "[CV] END pca__n_components=314, xgb__learning_rate=0.1, xgb__max_depth=30, xgb__n_estimators=100; total time=  10.3s\n",
      "[CV] END pca__n_components=314, xgb__learning_rate=0.1, xgb__max_depth=30, xgb__n_estimators=100; total time=   9.6s\n",
      "[CV] END pca__n_components=314, xgb__learning_rate=0.1, xgb__max_depth=30, xgb__n_estimators=100; total time=  10.1s\n",
      "[CV] END pca__n_components=314, xgb__learning_rate=0.1, xgb__max_depth=30, xgb__n_estimators=100; total time=  10.1s\n",
      "[CV] END pca__n_components=314, xgb__learning_rate=0.1, xgb__max_depth=30, xgb__n_estimators=200; total time=  14.3s\n",
      "[CV] END pca__n_components=314, xgb__learning_rate=0.1, xgb__max_depth=30, xgb__n_estimators=200; total time=  14.2s\n",
      "[CV] END pca__n_components=314, xgb__learning_rate=0.1, xgb__max_depth=30, xgb__n_estimators=200; total time=  13.2s\n",
      "[CV] END pca__n_components=314, xgb__learning_rate=0.1, xgb__max_depth=30, xgb__n_estimators=200; total time=  13.4s\n",
      "[CV] END pca__n_components=314, xgb__learning_rate=0.1, xgb__max_depth=30, xgb__n_estimators=200; total time=  14.0s\n",
      "[CV] END pca__n_components=314, xgb__learning_rate=0.1, xgb__max_depth=30, xgb__n_estimators=300; total time=  16.9s\n",
      "[CV] END pca__n_components=314, xgb__learning_rate=0.1, xgb__max_depth=30, xgb__n_estimators=300; total time=  18.1s\n",
      "[CV] END pca__n_components=314, xgb__learning_rate=0.1, xgb__max_depth=30, xgb__n_estimators=300; total time=  16.6s\n",
      "[CV] END pca__n_components=314, xgb__learning_rate=0.1, xgb__max_depth=30, xgb__n_estimators=300; total time=  16.3s\n",
      "[CV] END pca__n_components=314, xgb__learning_rate=0.1, xgb__max_depth=30, xgb__n_estimators=300; total time=  17.6s\n",
      "[CV] END pca__n_components=314, xgb__learning_rate=0.1, xgb__max_depth=40, xgb__n_estimators=100; total time=  10.6s\n",
      "[CV] END pca__n_components=314, xgb__learning_rate=0.1, xgb__max_depth=40, xgb__n_estimators=100; total time=  11.5s\n",
      "[CV] END pca__n_components=314, xgb__learning_rate=0.1, xgb__max_depth=40, xgb__n_estimators=100; total time=  10.6s\n",
      "[CV] END pca__n_components=314, xgb__learning_rate=0.1, xgb__max_depth=40, xgb__n_estimators=100; total time=  11.2s\n",
      "[CV] END pca__n_components=314, xgb__learning_rate=0.1, xgb__max_depth=40, xgb__n_estimators=100; total time=  10.4s\n",
      "[CV] END pca__n_components=314, xgb__learning_rate=0.1, xgb__max_depth=40, xgb__n_estimators=200; total time=  14.1s\n",
      "[CV] END pca__n_components=314, xgb__learning_rate=0.1, xgb__max_depth=40, xgb__n_estimators=200; total time=  16.5s\n",
      "[CV] END pca__n_components=314, xgb__learning_rate=0.1, xgb__max_depth=40, xgb__n_estimators=200; total time=  15.6s\n",
      "[CV] END pca__n_components=314, xgb__learning_rate=0.1, xgb__max_depth=40, xgb__n_estimators=200; total time=  13.9s\n",
      "[CV] END pca__n_components=314, xgb__learning_rate=0.1, xgb__max_depth=40, xgb__n_estimators=200; total time=  15.0s\n",
      "[CV] END pca__n_components=314, xgb__learning_rate=0.1, xgb__max_depth=40, xgb__n_estimators=300; total time=  17.0s\n",
      "[CV] END pca__n_components=314, xgb__learning_rate=0.1, xgb__max_depth=40, xgb__n_estimators=300; total time=  17.2s\n",
      "[CV] END pca__n_components=314, xgb__learning_rate=0.1, xgb__max_depth=40, xgb__n_estimators=300; total time=  17.5s\n",
      "[CV] END pca__n_components=314, xgb__learning_rate=0.1, xgb__max_depth=40, xgb__n_estimators=300; total time=  17.2s\n",
      "[CV] END pca__n_components=314, xgb__learning_rate=0.1, xgb__max_depth=40, xgb__n_estimators=300; total time=  17.0s\n",
      "[CV] END pca__n_components=314, xgb__learning_rate=0.1, xgb__max_depth=50, xgb__n_estimators=100; total time=  10.7s\n",
      "[CV] END pca__n_components=314, xgb__learning_rate=0.1, xgb__max_depth=50, xgb__n_estimators=100; total time=  11.0s\n",
      "[CV] END pca__n_components=314, xgb__learning_rate=0.1, xgb__max_depth=50, xgb__n_estimators=100; total time=  11.4s\n",
      "[CV] END pca__n_components=314, xgb__learning_rate=0.1, xgb__max_depth=50, xgb__n_estimators=100; total time=  12.2s\n",
      "[CV] END pca__n_components=314, xgb__learning_rate=0.1, xgb__max_depth=50, xgb__n_estimators=100; total time=  10.9s\n",
      "[CV] END pca__n_components=314, xgb__learning_rate=0.1, xgb__max_depth=50, xgb__n_estimators=200; total time=  13.9s\n",
      "[CV] END pca__n_components=314, xgb__learning_rate=0.1, xgb__max_depth=50, xgb__n_estimators=200; total time=  14.2s\n",
      "[CV] END pca__n_components=314, xgb__learning_rate=0.1, xgb__max_depth=50, xgb__n_estimators=200; total time=  14.8s\n",
      "[CV] END pca__n_components=314, xgb__learning_rate=0.1, xgb__max_depth=50, xgb__n_estimators=200; total time=  15.5s\n",
      "[CV] END pca__n_components=314, xgb__learning_rate=0.1, xgb__max_depth=50, xgb__n_estimators=200; total time=  14.5s\n",
      "[CV] END pca__n_components=314, xgb__learning_rate=0.1, xgb__max_depth=50, xgb__n_estimators=300; total time=  17.7s\n",
      "[CV] END pca__n_components=314, xgb__learning_rate=0.1, xgb__max_depth=50, xgb__n_estimators=300; total time=  15.7s\n",
      "[CV] END pca__n_components=314, xgb__learning_rate=0.1, xgb__max_depth=50, xgb__n_estimators=300; total time=  15.9s\n",
      "[CV] END pca__n_components=314, xgb__learning_rate=0.1, xgb__max_depth=50, xgb__n_estimators=300; total time=  16.9s\n",
      "[CV] END pca__n_components=314, xgb__learning_rate=0.1, xgb__max_depth=50, xgb__n_estimators=300; total time=  15.7s\n",
      "[CV] END pca__n_components=314, xgb__learning_rate=0.01, xgb__max_depth=10, xgb__n_estimators=100; total time=   6.1s\n",
      "[CV] END pca__n_components=314, xgb__learning_rate=0.01, xgb__max_depth=10, xgb__n_estimators=100; total time=   6.5s\n",
      "[CV] END pca__n_components=314, xgb__learning_rate=0.01, xgb__max_depth=10, xgb__n_estimators=100; total time=   7.4s\n",
      "[CV] END pca__n_components=314, xgb__learning_rate=0.01, xgb__max_depth=10, xgb__n_estimators=100; total time=   6.3s\n",
      "[CV] END pca__n_components=314, xgb__learning_rate=0.01, xgb__max_depth=10, xgb__n_estimators=100; total time=   6.4s\n",
      "[CV] END pca__n_components=314, xgb__learning_rate=0.01, xgb__max_depth=10, xgb__n_estimators=200; total time=  11.5s\n",
      "[CV] END pca__n_components=314, xgb__learning_rate=0.01, xgb__max_depth=10, xgb__n_estimators=200; total time=  11.0s\n",
      "[CV] END pca__n_components=314, xgb__learning_rate=0.01, xgb__max_depth=10, xgb__n_estimators=200; total time=  12.2s\n",
      "[CV] END pca__n_components=314, xgb__learning_rate=0.01, xgb__max_depth=10, xgb__n_estimators=200; total time=  11.9s\n",
      "[CV] END pca__n_components=314, xgb__learning_rate=0.01, xgb__max_depth=10, xgb__n_estimators=200; total time=  12.4s\n",
      "[CV] END pca__n_components=314, xgb__learning_rate=0.01, xgb__max_depth=10, xgb__n_estimators=300; total time=  19.0s\n",
      "[CV] END pca__n_components=314, xgb__learning_rate=0.01, xgb__max_depth=10, xgb__n_estimators=300; total time=  16.8s\n",
      "[CV] END pca__n_components=314, xgb__learning_rate=0.01, xgb__max_depth=10, xgb__n_estimators=300; total time=  16.2s\n",
      "[CV] END pca__n_components=314, xgb__learning_rate=0.01, xgb__max_depth=10, xgb__n_estimators=300; total time=  16.4s\n",
      "[CV] END pca__n_components=314, xgb__learning_rate=0.01, xgb__max_depth=10, xgb__n_estimators=300; total time=  16.1s\n",
      "[CV] END pca__n_components=314, xgb__learning_rate=0.01, xgb__max_depth=20, xgb__n_estimators=100; total time=  15.6s\n",
      "[CV] END pca__n_components=314, xgb__learning_rate=0.01, xgb__max_depth=20, xgb__n_estimators=100; total time=  15.0s\n",
      "[CV] END pca__n_components=314, xgb__learning_rate=0.01, xgb__max_depth=20, xgb__n_estimators=100; total time=  15.3s\n",
      "[CV] END pca__n_components=314, xgb__learning_rate=0.01, xgb__max_depth=20, xgb__n_estimators=100; total time=  14.6s\n",
      "[CV] END pca__n_components=314, xgb__learning_rate=0.01, xgb__max_depth=20, xgb__n_estimators=100; total time=  16.4s\n",
      "[CV] END pca__n_components=314, xgb__learning_rate=0.01, xgb__max_depth=20, xgb__n_estimators=200; total time=  28.0s\n",
      "[CV] END pca__n_components=314, xgb__learning_rate=0.01, xgb__max_depth=20, xgb__n_estimators=200; total time=  25.1s\n",
      "[CV] END pca__n_components=314, xgb__learning_rate=0.01, xgb__max_depth=20, xgb__n_estimators=200; total time=  27.7s\n",
      "[CV] END pca__n_components=314, xgb__learning_rate=0.01, xgb__max_depth=20, xgb__n_estimators=200; total time=  28.3s\n",
      "[CV] END pca__n_components=314, xgb__learning_rate=0.01, xgb__max_depth=20, xgb__n_estimators=200; total time=  26.4s\n",
      "[CV] END pca__n_components=314, xgb__learning_rate=0.01, xgb__max_depth=20, xgb__n_estimators=300; total time=  34.1s\n",
      "[CV] END pca__n_components=314, xgb__learning_rate=0.01, xgb__max_depth=20, xgb__n_estimators=300; total time=  33.6s\n",
      "[CV] END pca__n_components=314, xgb__learning_rate=0.01, xgb__max_depth=20, xgb__n_estimators=300; total time=  33.8s\n",
      "[CV] END pca__n_components=314, xgb__learning_rate=0.01, xgb__max_depth=20, xgb__n_estimators=300; total time=  32.4s\n",
      "[CV] END pca__n_components=314, xgb__learning_rate=0.01, xgb__max_depth=20, xgb__n_estimators=300; total time=  33.5s\n",
      "[CV] END pca__n_components=314, xgb__learning_rate=0.01, xgb__max_depth=30, xgb__n_estimators=100; total time=  14.0s\n",
      "[CV] END pca__n_components=314, xgb__learning_rate=0.01, xgb__max_depth=30, xgb__n_estimators=100; total time=  15.0s\n",
      "[CV] END pca__n_components=314, xgb__learning_rate=0.01, xgb__max_depth=30, xgb__n_estimators=100; total time=  14.1s\n",
      "[CV] END pca__n_components=314, xgb__learning_rate=0.01, xgb__max_depth=30, xgb__n_estimators=100; total time=  14.6s\n",
      "[CV] END pca__n_components=314, xgb__learning_rate=0.01, xgb__max_depth=30, xgb__n_estimators=100; total time=  15.0s\n",
      "[CV] END pca__n_components=314, xgb__learning_rate=0.01, xgb__max_depth=30, xgb__n_estimators=200; total time=  25.1s\n",
      "[CV] END pca__n_components=314, xgb__learning_rate=0.01, xgb__max_depth=30, xgb__n_estimators=200; total time=  24.8s\n",
      "[CV] END pca__n_components=314, xgb__learning_rate=0.01, xgb__max_depth=30, xgb__n_estimators=200; total time=  26.2s\n",
      "[CV] END pca__n_components=314, xgb__learning_rate=0.01, xgb__max_depth=30, xgb__n_estimators=200; total time=  25.3s\n",
      "[CV] END pca__n_components=314, xgb__learning_rate=0.01, xgb__max_depth=30, xgb__n_estimators=200; total time=  25.3s\n",
      "[CV] END pca__n_components=314, xgb__learning_rate=0.01, xgb__max_depth=30, xgb__n_estimators=300; total time=  33.4s\n",
      "[CV] END pca__n_components=314, xgb__learning_rate=0.01, xgb__max_depth=30, xgb__n_estimators=300; total time=  33.0s\n",
      "[CV] END pca__n_components=314, xgb__learning_rate=0.01, xgb__max_depth=30, xgb__n_estimators=300; total time=  35.0s\n",
      "[CV] END pca__n_components=314, xgb__learning_rate=0.01, xgb__max_depth=30, xgb__n_estimators=300; total time=  36.4s\n",
      "[CV] END pca__n_components=314, xgb__learning_rate=0.01, xgb__max_depth=30, xgb__n_estimators=300; total time=  34.1s\n",
      "[CV] END pca__n_components=314, xgb__learning_rate=0.01, xgb__max_depth=40, xgb__n_estimators=100; total time=  14.6s\n",
      "[CV] END pca__n_components=314, xgb__learning_rate=0.01, xgb__max_depth=40, xgb__n_estimators=100; total time=  15.0s\n",
      "[CV] END pca__n_components=314, xgb__learning_rate=0.01, xgb__max_depth=40, xgb__n_estimators=100; total time=  15.0s\n",
      "[CV] END pca__n_components=314, xgb__learning_rate=0.01, xgb__max_depth=40, xgb__n_estimators=100; total time=  15.2s\n",
      "[CV] END pca__n_components=314, xgb__learning_rate=0.01, xgb__max_depth=40, xgb__n_estimators=100; total time=  14.9s\n",
      "[CV] END pca__n_components=314, xgb__learning_rate=0.01, xgb__max_depth=40, xgb__n_estimators=200; total time=  26.1s\n",
      "[CV] END pca__n_components=314, xgb__learning_rate=0.01, xgb__max_depth=40, xgb__n_estimators=200; total time=  24.9s\n",
      "[CV] END pca__n_components=314, xgb__learning_rate=0.01, xgb__max_depth=40, xgb__n_estimators=200; total time=  25.2s\n",
      "[CV] END pca__n_components=314, xgb__learning_rate=0.01, xgb__max_depth=40, xgb__n_estimators=200; total time=  39.2s\n",
      "[CV] END pca__n_components=314, xgb__learning_rate=0.01, xgb__max_depth=40, xgb__n_estimators=200; total time=  36.3s\n",
      "[CV] END pca__n_components=314, xgb__learning_rate=0.01, xgb__max_depth=40, xgb__n_estimators=300; total time=  44.9s\n",
      "[CV] END pca__n_components=314, xgb__learning_rate=0.01, xgb__max_depth=40, xgb__n_estimators=300; total time=  44.6s\n",
      "[CV] END pca__n_components=314, xgb__learning_rate=0.01, xgb__max_depth=40, xgb__n_estimators=300; total time=  47.1s\n",
      "[CV] END pca__n_components=314, xgb__learning_rate=0.01, xgb__max_depth=40, xgb__n_estimators=300; total time=  45.2s\n",
      "[CV] END pca__n_components=314, xgb__learning_rate=0.01, xgb__max_depth=40, xgb__n_estimators=300; total time=  46.5s\n",
      "[CV] END pca__n_components=314, xgb__learning_rate=0.01, xgb__max_depth=50, xgb__n_estimators=100; total time=  20.1s\n",
      "[CV] END pca__n_components=314, xgb__learning_rate=0.01, xgb__max_depth=50, xgb__n_estimators=100; total time=  20.7s\n",
      "[CV] END pca__n_components=314, xgb__learning_rate=0.01, xgb__max_depth=50, xgb__n_estimators=100; total time=  20.7s\n",
      "[CV] END pca__n_components=314, xgb__learning_rate=0.01, xgb__max_depth=50, xgb__n_estimators=100; total time=  21.0s\n",
      "[CV] END pca__n_components=314, xgb__learning_rate=0.01, xgb__max_depth=50, xgb__n_estimators=100; total time=  21.0s\n",
      "[CV] END pca__n_components=314, xgb__learning_rate=0.01, xgb__max_depth=50, xgb__n_estimators=200; total time=  34.0s\n",
      "[CV] END pca__n_components=314, xgb__learning_rate=0.01, xgb__max_depth=50, xgb__n_estimators=200; total time=  34.6s\n",
      "[CV] END pca__n_components=314, xgb__learning_rate=0.01, xgb__max_depth=50, xgb__n_estimators=200; total time=  34.8s\n",
      "[CV] END pca__n_components=314, xgb__learning_rate=0.01, xgb__max_depth=50, xgb__n_estimators=200; total time=  35.3s\n",
      "[CV] END pca__n_components=314, xgb__learning_rate=0.01, xgb__max_depth=50, xgb__n_estimators=200; total time=  34.7s\n",
      "[CV] END pca__n_components=314, xgb__learning_rate=0.01, xgb__max_depth=50, xgb__n_estimators=300; total time=  45.5s\n",
      "[CV] END pca__n_components=314, xgb__learning_rate=0.01, xgb__max_depth=50, xgb__n_estimators=300; total time=  46.4s\n",
      "[CV] END pca__n_components=314, xgb__learning_rate=0.01, xgb__max_depth=50, xgb__n_estimators=300; total time=  46.4s\n",
      "[CV] END pca__n_components=314, xgb__learning_rate=0.01, xgb__max_depth=50, xgb__n_estimators=300; total time=  45.8s\n",
      "[CV] END pca__n_components=314, xgb__learning_rate=0.01, xgb__max_depth=50, xgb__n_estimators=300; total time=  44.8s\n"
     ]
    },
    {
     "data": {
      "text/html": [
       "<style>#sk-container-id-1 {color: black;}#sk-container-id-1 pre{padding: 0;}#sk-container-id-1 div.sk-toggleable {background-color: white;}#sk-container-id-1 label.sk-toggleable__label {cursor: pointer;display: block;width: 100%;margin-bottom: 0;padding: 0.3em;box-sizing: border-box;text-align: center;}#sk-container-id-1 label.sk-toggleable__label-arrow:before {content: \"▸\";float: left;margin-right: 0.25em;color: #696969;}#sk-container-id-1 label.sk-toggleable__label-arrow:hover:before {color: black;}#sk-container-id-1 div.sk-estimator:hover label.sk-toggleable__label-arrow:before {color: black;}#sk-container-id-1 div.sk-toggleable__content {max-height: 0;max-width: 0;overflow: hidden;text-align: left;background-color: #f0f8ff;}#sk-container-id-1 div.sk-toggleable__content pre {margin: 0.2em;color: black;border-radius: 0.25em;background-color: #f0f8ff;}#sk-container-id-1 input.sk-toggleable__control:checked~div.sk-toggleable__content {max-height: 200px;max-width: 100%;overflow: auto;}#sk-container-id-1 input.sk-toggleable__control:checked~label.sk-toggleable__label-arrow:before {content: \"▾\";}#sk-container-id-1 div.sk-estimator input.sk-toggleable__control:checked~label.sk-toggleable__label {background-color: #d4ebff;}#sk-container-id-1 div.sk-label input.sk-toggleable__control:checked~label.sk-toggleable__label {background-color: #d4ebff;}#sk-container-id-1 input.sk-hidden--visually {border: 0;clip: rect(1px 1px 1px 1px);clip: rect(1px, 1px, 1px, 1px);height: 1px;margin: -1px;overflow: hidden;padding: 0;position: absolute;width: 1px;}#sk-container-id-1 div.sk-estimator {font-family: monospace;background-color: #f0f8ff;border: 1px dotted black;border-radius: 0.25em;box-sizing: border-box;margin-bottom: 0.5em;}#sk-container-id-1 div.sk-estimator:hover {background-color: #d4ebff;}#sk-container-id-1 div.sk-parallel-item::after {content: \"\";width: 100%;border-bottom: 1px solid gray;flex-grow: 1;}#sk-container-id-1 div.sk-label:hover label.sk-toggleable__label {background-color: #d4ebff;}#sk-container-id-1 div.sk-serial::before {content: \"\";position: absolute;border-left: 1px solid gray;box-sizing: border-box;top: 0;bottom: 0;left: 50%;z-index: 0;}#sk-container-id-1 div.sk-serial {display: flex;flex-direction: column;align-items: center;background-color: white;padding-right: 0.2em;padding-left: 0.2em;position: relative;}#sk-container-id-1 div.sk-item {position: relative;z-index: 1;}#sk-container-id-1 div.sk-parallel {display: flex;align-items: stretch;justify-content: center;background-color: white;position: relative;}#sk-container-id-1 div.sk-item::before, #sk-container-id-1 div.sk-parallel-item::before {content: \"\";position: absolute;border-left: 1px solid gray;box-sizing: border-box;top: 0;bottom: 0;left: 50%;z-index: -1;}#sk-container-id-1 div.sk-parallel-item {display: flex;flex-direction: column;z-index: 1;position: relative;background-color: white;}#sk-container-id-1 div.sk-parallel-item:first-child::after {align-self: flex-end;width: 50%;}#sk-container-id-1 div.sk-parallel-item:last-child::after {align-self: flex-start;width: 50%;}#sk-container-id-1 div.sk-parallel-item:only-child::after {width: 0;}#sk-container-id-1 div.sk-dashed-wrapped {border: 1px dashed gray;margin: 0 0.4em 0.5em 0.4em;box-sizing: border-box;padding-bottom: 0.4em;background-color: white;}#sk-container-id-1 div.sk-label label {font-family: monospace;font-weight: bold;display: inline-block;line-height: 1.2em;}#sk-container-id-1 div.sk-label-container {text-align: center;}#sk-container-id-1 div.sk-container {/* jupyter's `normalize.less` sets `[hidden] { display: none; }` but bootstrap.min.css set `[hidden] { display: none !important; }` so we also need the `!important` here to be able to override the default hidden behavior on the sphinx rendered scikit-learn.org. See: https://github.com/scikit-learn/scikit-learn/issues/21755 */display: inline-block !important;position: relative;}#sk-container-id-1 div.sk-text-repr-fallback {display: none;}</style><div id=\"sk-container-id-1\" class=\"sk-top-container\"><div class=\"sk-text-repr-fallback\"><pre>GridSearchCV(cv=5,\n",
       "             estimator=Pipeline(steps=[(&#x27;pca&#x27;, PCA()),\n",
       "                                       (&#x27;xgb&#x27;,\n",
       "                                        XGBClassifier(base_score=None,\n",
       "                                                      booster=None,\n",
       "                                                      callbacks=None,\n",
       "                                                      colsample_bylevel=None,\n",
       "                                                      colsample_bynode=None,\n",
       "                                                      colsample_bytree=None,\n",
       "                                                      device=None,\n",
       "                                                      early_stopping_rounds=None,\n",
       "                                                      enable_categorical=False,\n",
       "                                                      eval_metric=None,\n",
       "                                                      feature_types=None,\n",
       "                                                      gamma=None,\n",
       "                                                      grow_policy=None,\n",
       "                                                      importance_type=None,\n",
       "                                                      interaction...\n",
       "                                                      max_depth=None,\n",
       "                                                      max_leaves=None,\n",
       "                                                      min_child_weight=None,\n",
       "                                                      missing=nan,\n",
       "                                                      monotone_constraints=None,\n",
       "                                                      multi_strategy=None,\n",
       "                                                      n_estimators=None,\n",
       "                                                      n_jobs=None,\n",
       "                                                      num_parallel_tree=None,\n",
       "                                                      random_state=None, ...))]),\n",
       "             param_grid={&#x27;pca__n_components&#x27;: [314],\n",
       "                         &#x27;xgb__learning_rate&#x27;: [1, 0.1, 0.01],\n",
       "                         &#x27;xgb__max_depth&#x27;: [10, 20, 30, 40, 50],\n",
       "                         &#x27;xgb__n_estimators&#x27;: [100, 200, 300]},\n",
       "             scoring=&#x27;accuracy&#x27;, verbose=2)</pre><b>In a Jupyter environment, please rerun this cell to show the HTML representation or trust the notebook. <br />On GitHub, the HTML representation is unable to render, please try loading this page with nbviewer.org.</b></div><div class=\"sk-container\" hidden><div class=\"sk-item sk-dashed-wrapped\"><div class=\"sk-label-container\"><div class=\"sk-label sk-toggleable\"><input class=\"sk-toggleable__control sk-hidden--visually\" id=\"sk-estimator-id-1\" type=\"checkbox\" ><label for=\"sk-estimator-id-1\" class=\"sk-toggleable__label sk-toggleable__label-arrow\">GridSearchCV</label><div class=\"sk-toggleable__content\"><pre>GridSearchCV(cv=5,\n",
       "             estimator=Pipeline(steps=[(&#x27;pca&#x27;, PCA()),\n",
       "                                       (&#x27;xgb&#x27;,\n",
       "                                        XGBClassifier(base_score=None,\n",
       "                                                      booster=None,\n",
       "                                                      callbacks=None,\n",
       "                                                      colsample_bylevel=None,\n",
       "                                                      colsample_bynode=None,\n",
       "                                                      colsample_bytree=None,\n",
       "                                                      device=None,\n",
       "                                                      early_stopping_rounds=None,\n",
       "                                                      enable_categorical=False,\n",
       "                                                      eval_metric=None,\n",
       "                                                      feature_types=None,\n",
       "                                                      gamma=None,\n",
       "                                                      grow_policy=None,\n",
       "                                                      importance_type=None,\n",
       "                                                      interaction...\n",
       "                                                      max_depth=None,\n",
       "                                                      max_leaves=None,\n",
       "                                                      min_child_weight=None,\n",
       "                                                      missing=nan,\n",
       "                                                      monotone_constraints=None,\n",
       "                                                      multi_strategy=None,\n",
       "                                                      n_estimators=None,\n",
       "                                                      n_jobs=None,\n",
       "                                                      num_parallel_tree=None,\n",
       "                                                      random_state=None, ...))]),\n",
       "             param_grid={&#x27;pca__n_components&#x27;: [314],\n",
       "                         &#x27;xgb__learning_rate&#x27;: [1, 0.1, 0.01],\n",
       "                         &#x27;xgb__max_depth&#x27;: [10, 20, 30, 40, 50],\n",
       "                         &#x27;xgb__n_estimators&#x27;: [100, 200, 300]},\n",
       "             scoring=&#x27;accuracy&#x27;, verbose=2)</pre></div></div></div><div class=\"sk-parallel\"><div class=\"sk-parallel-item\"><div class=\"sk-item\"><div class=\"sk-label-container\"><div class=\"sk-label sk-toggleable\"><input class=\"sk-toggleable__control sk-hidden--visually\" id=\"sk-estimator-id-2\" type=\"checkbox\" ><label for=\"sk-estimator-id-2\" class=\"sk-toggleable__label sk-toggleable__label-arrow\">estimator: Pipeline</label><div class=\"sk-toggleable__content\"><pre>Pipeline(steps=[(&#x27;pca&#x27;, PCA()),\n",
       "                (&#x27;xgb&#x27;,\n",
       "                 XGBClassifier(base_score=None, booster=None, callbacks=None,\n",
       "                               colsample_bylevel=None, colsample_bynode=None,\n",
       "                               colsample_bytree=None, device=None,\n",
       "                               early_stopping_rounds=None,\n",
       "                               enable_categorical=False, eval_metric=None,\n",
       "                               feature_types=None, gamma=None, grow_policy=None,\n",
       "                               importance_type=None,\n",
       "                               interaction_constraints=None, learning_rate=None,\n",
       "                               max_bin=None, max_cat_threshold=None,\n",
       "                               max_cat_to_onehot=None, max_delta_step=None,\n",
       "                               max_depth=None, max_leaves=None,\n",
       "                               min_child_weight=None, missing=nan,\n",
       "                               monotone_constraints=None, multi_strategy=None,\n",
       "                               n_estimators=None, n_jobs=None,\n",
       "                               num_parallel_tree=None, random_state=None, ...))])</pre></div></div></div><div class=\"sk-serial\"><div class=\"sk-item\"><div class=\"sk-serial\"><div class=\"sk-item\"><div class=\"sk-estimator sk-toggleable\"><input class=\"sk-toggleable__control sk-hidden--visually\" id=\"sk-estimator-id-3\" type=\"checkbox\" ><label for=\"sk-estimator-id-3\" class=\"sk-toggleable__label sk-toggleable__label-arrow\">PCA</label><div class=\"sk-toggleable__content\"><pre>PCA()</pre></div></div></div><div class=\"sk-item\"><div class=\"sk-estimator sk-toggleable\"><input class=\"sk-toggleable__control sk-hidden--visually\" id=\"sk-estimator-id-4\" type=\"checkbox\" ><label for=\"sk-estimator-id-4\" class=\"sk-toggleable__label sk-toggleable__label-arrow\">XGBClassifier</label><div class=\"sk-toggleable__content\"><pre>XGBClassifier(base_score=None, booster=None, callbacks=None,\n",
       "              colsample_bylevel=None, colsample_bynode=None,\n",
       "              colsample_bytree=None, device=None, early_stopping_rounds=None,\n",
       "              enable_categorical=False, eval_metric=None, feature_types=None,\n",
       "              gamma=None, grow_policy=None, importance_type=None,\n",
       "              interaction_constraints=None, learning_rate=None, max_bin=None,\n",
       "              max_cat_threshold=None, max_cat_to_onehot=None,\n",
       "              max_delta_step=None, max_depth=None, max_leaves=None,\n",
       "              min_child_weight=None, missing=nan, monotone_constraints=None,\n",
       "              multi_strategy=None, n_estimators=None, n_jobs=None,\n",
       "              num_parallel_tree=None, random_state=None, ...)</pre></div></div></div></div></div></div></div></div></div></div></div></div>"
      ],
      "text/plain": [
       "GridSearchCV(cv=5,\n",
       "             estimator=Pipeline(steps=[('pca', PCA()),\n",
       "                                       ('xgb',\n",
       "                                        XGBClassifier(base_score=None,\n",
       "                                                      booster=None,\n",
       "                                                      callbacks=None,\n",
       "                                                      colsample_bylevel=None,\n",
       "                                                      colsample_bynode=None,\n",
       "                                                      colsample_bytree=None,\n",
       "                                                      device=None,\n",
       "                                                      early_stopping_rounds=None,\n",
       "                                                      enable_categorical=False,\n",
       "                                                      eval_metric=None,\n",
       "                                                      feature_types=None,\n",
       "                                                      gamma=None,\n",
       "                                                      grow_policy=None,\n",
       "                                                      importance_type=None,\n",
       "                                                      interaction...\n",
       "                                                      max_depth=None,\n",
       "                                                      max_leaves=None,\n",
       "                                                      min_child_weight=None,\n",
       "                                                      missing=nan,\n",
       "                                                      monotone_constraints=None,\n",
       "                                                      multi_strategy=None,\n",
       "                                                      n_estimators=None,\n",
       "                                                      n_jobs=None,\n",
       "                                                      num_parallel_tree=None,\n",
       "                                                      random_state=None, ...))]),\n",
       "             param_grid={'pca__n_components': [314],\n",
       "                         'xgb__learning_rate': [1, 0.1, 0.01],\n",
       "                         'xgb__max_depth': [10, 20, 30, 40, 50],\n",
       "                         'xgb__n_estimators': [100, 200, 300]},\n",
       "             scoring='accuracy', verbose=2)"
      ]
     },
     "execution_count": 33,
     "metadata": {},
     "output_type": "execute_result"
    }
   ],
   "source": [
    "grid_search.fit(X_train, y_train)"
   ]
  },
  {
   "cell_type": "code",
   "execution_count": 34,
   "metadata": {},
   "outputs": [
    {
     "data": {
      "text/plain": [
       "{'pca__n_components': 314,\n",
       " 'xgb__learning_rate': 0.1,\n",
       " 'xgb__max_depth': 40,\n",
       " 'xgb__n_estimators': 300}"
      ]
     },
     "execution_count": 34,
     "metadata": {},
     "output_type": "execute_result"
    }
   ],
   "source": [
    "grid_search.best_params_"
   ]
  },
  {
   "cell_type": "code",
   "execution_count": 35,
   "metadata": {},
   "outputs": [
    {
     "data": {
      "text/plain": [
       "0.8717373899119295"
      ]
     },
     "execution_count": 35,
     "metadata": {},
     "output_type": "execute_result"
    }
   ],
   "source": [
    "grid_search.best_score_"
   ]
  },
  {
   "cell_type": "markdown",
   "metadata": {},
   "source": [
    "# Entrenamiento con los datos de prueba\n",
    "<hr>"
   ]
  },
  {
   "cell_type": "code",
   "execution_count": 39,
   "metadata": {},
   "outputs": [],
   "source": [
    "pipe = Pipeline([\n",
    "    ('pca', PCA(n_components=314)),\n",
    "    ('svc', XGBClassifier(learning_rate=0.1, max_depth=40, n_estimators=300))\n",
    "])"
   ]
  },
  {
   "cell_type": "code",
   "execution_count": 40,
   "metadata": {},
   "outputs": [
    {
     "data": {
      "text/html": [
       "<style>#sk-container-id-2 {color: black;}#sk-container-id-2 pre{padding: 0;}#sk-container-id-2 div.sk-toggleable {background-color: white;}#sk-container-id-2 label.sk-toggleable__label {cursor: pointer;display: block;width: 100%;margin-bottom: 0;padding: 0.3em;box-sizing: border-box;text-align: center;}#sk-container-id-2 label.sk-toggleable__label-arrow:before {content: \"▸\";float: left;margin-right: 0.25em;color: #696969;}#sk-container-id-2 label.sk-toggleable__label-arrow:hover:before {color: black;}#sk-container-id-2 div.sk-estimator:hover label.sk-toggleable__label-arrow:before {color: black;}#sk-container-id-2 div.sk-toggleable__content {max-height: 0;max-width: 0;overflow: hidden;text-align: left;background-color: #f0f8ff;}#sk-container-id-2 div.sk-toggleable__content pre {margin: 0.2em;color: black;border-radius: 0.25em;background-color: #f0f8ff;}#sk-container-id-2 input.sk-toggleable__control:checked~div.sk-toggleable__content {max-height: 200px;max-width: 100%;overflow: auto;}#sk-container-id-2 input.sk-toggleable__control:checked~label.sk-toggleable__label-arrow:before {content: \"▾\";}#sk-container-id-2 div.sk-estimator input.sk-toggleable__control:checked~label.sk-toggleable__label {background-color: #d4ebff;}#sk-container-id-2 div.sk-label input.sk-toggleable__control:checked~label.sk-toggleable__label {background-color: #d4ebff;}#sk-container-id-2 input.sk-hidden--visually {border: 0;clip: rect(1px 1px 1px 1px);clip: rect(1px, 1px, 1px, 1px);height: 1px;margin: -1px;overflow: hidden;padding: 0;position: absolute;width: 1px;}#sk-container-id-2 div.sk-estimator {font-family: monospace;background-color: #f0f8ff;border: 1px dotted black;border-radius: 0.25em;box-sizing: border-box;margin-bottom: 0.5em;}#sk-container-id-2 div.sk-estimator:hover {background-color: #d4ebff;}#sk-container-id-2 div.sk-parallel-item::after {content: \"\";width: 100%;border-bottom: 1px solid gray;flex-grow: 1;}#sk-container-id-2 div.sk-label:hover label.sk-toggleable__label {background-color: #d4ebff;}#sk-container-id-2 div.sk-serial::before {content: \"\";position: absolute;border-left: 1px solid gray;box-sizing: border-box;top: 0;bottom: 0;left: 50%;z-index: 0;}#sk-container-id-2 div.sk-serial {display: flex;flex-direction: column;align-items: center;background-color: white;padding-right: 0.2em;padding-left: 0.2em;position: relative;}#sk-container-id-2 div.sk-item {position: relative;z-index: 1;}#sk-container-id-2 div.sk-parallel {display: flex;align-items: stretch;justify-content: center;background-color: white;position: relative;}#sk-container-id-2 div.sk-item::before, #sk-container-id-2 div.sk-parallel-item::before {content: \"\";position: absolute;border-left: 1px solid gray;box-sizing: border-box;top: 0;bottom: 0;left: 50%;z-index: -1;}#sk-container-id-2 div.sk-parallel-item {display: flex;flex-direction: column;z-index: 1;position: relative;background-color: white;}#sk-container-id-2 div.sk-parallel-item:first-child::after {align-self: flex-end;width: 50%;}#sk-container-id-2 div.sk-parallel-item:last-child::after {align-self: flex-start;width: 50%;}#sk-container-id-2 div.sk-parallel-item:only-child::after {width: 0;}#sk-container-id-2 div.sk-dashed-wrapped {border: 1px dashed gray;margin: 0 0.4em 0.5em 0.4em;box-sizing: border-box;padding-bottom: 0.4em;background-color: white;}#sk-container-id-2 div.sk-label label {font-family: monospace;font-weight: bold;display: inline-block;line-height: 1.2em;}#sk-container-id-2 div.sk-label-container {text-align: center;}#sk-container-id-2 div.sk-container {/* jupyter's `normalize.less` sets `[hidden] { display: none; }` but bootstrap.min.css set `[hidden] { display: none !important; }` so we also need the `!important` here to be able to override the default hidden behavior on the sphinx rendered scikit-learn.org. See: https://github.com/scikit-learn/scikit-learn/issues/21755 */display: inline-block !important;position: relative;}#sk-container-id-2 div.sk-text-repr-fallback {display: none;}</style><div id=\"sk-container-id-2\" class=\"sk-top-container\"><div class=\"sk-text-repr-fallback\"><pre>Pipeline(steps=[(&#x27;pca&#x27;, PCA(n_components=314)),\n",
       "                (&#x27;svc&#x27;,\n",
       "                 XGBClassifier(base_score=None, booster=None, callbacks=None,\n",
       "                               colsample_bylevel=None, colsample_bynode=None,\n",
       "                               colsample_bytree=None, device=None,\n",
       "                               early_stopping_rounds=None,\n",
       "                               enable_categorical=False, eval_metric=None,\n",
       "                               feature_types=None, gamma=None, grow_policy=None,\n",
       "                               importance_type=None,\n",
       "                               interaction_constraints=None, learning_rate=0.1,\n",
       "                               max_bin=None, max_cat_threshold=None,\n",
       "                               max_cat_to_onehot=None, max_delta_step=None,\n",
       "                               max_depth=40, max_leaves=None,\n",
       "                               min_child_weight=None, missing=nan,\n",
       "                               monotone_constraints=None, multi_strategy=None,\n",
       "                               n_estimators=300, n_jobs=None,\n",
       "                               num_parallel_tree=None, random_state=None, ...))])</pre><b>In a Jupyter environment, please rerun this cell to show the HTML representation or trust the notebook. <br />On GitHub, the HTML representation is unable to render, please try loading this page with nbviewer.org.</b></div><div class=\"sk-container\" hidden><div class=\"sk-item sk-dashed-wrapped\"><div class=\"sk-label-container\"><div class=\"sk-label sk-toggleable\"><input class=\"sk-toggleable__control sk-hidden--visually\" id=\"sk-estimator-id-5\" type=\"checkbox\" ><label for=\"sk-estimator-id-5\" class=\"sk-toggleable__label sk-toggleable__label-arrow\">Pipeline</label><div class=\"sk-toggleable__content\"><pre>Pipeline(steps=[(&#x27;pca&#x27;, PCA(n_components=314)),\n",
       "                (&#x27;svc&#x27;,\n",
       "                 XGBClassifier(base_score=None, booster=None, callbacks=None,\n",
       "                               colsample_bylevel=None, colsample_bynode=None,\n",
       "                               colsample_bytree=None, device=None,\n",
       "                               early_stopping_rounds=None,\n",
       "                               enable_categorical=False, eval_metric=None,\n",
       "                               feature_types=None, gamma=None, grow_policy=None,\n",
       "                               importance_type=None,\n",
       "                               interaction_constraints=None, learning_rate=0.1,\n",
       "                               max_bin=None, max_cat_threshold=None,\n",
       "                               max_cat_to_onehot=None, max_delta_step=None,\n",
       "                               max_depth=40, max_leaves=None,\n",
       "                               min_child_weight=None, missing=nan,\n",
       "                               monotone_constraints=None, multi_strategy=None,\n",
       "                               n_estimators=300, n_jobs=None,\n",
       "                               num_parallel_tree=None, random_state=None, ...))])</pre></div></div></div><div class=\"sk-serial\"><div class=\"sk-item\"><div class=\"sk-estimator sk-toggleable\"><input class=\"sk-toggleable__control sk-hidden--visually\" id=\"sk-estimator-id-6\" type=\"checkbox\" ><label for=\"sk-estimator-id-6\" class=\"sk-toggleable__label sk-toggleable__label-arrow\">PCA</label><div class=\"sk-toggleable__content\"><pre>PCA(n_components=314)</pre></div></div></div><div class=\"sk-item\"><div class=\"sk-estimator sk-toggleable\"><input class=\"sk-toggleable__control sk-hidden--visually\" id=\"sk-estimator-id-7\" type=\"checkbox\" ><label for=\"sk-estimator-id-7\" class=\"sk-toggleable__label sk-toggleable__label-arrow\">XGBClassifier</label><div class=\"sk-toggleable__content\"><pre>XGBClassifier(base_score=None, booster=None, callbacks=None,\n",
       "              colsample_bylevel=None, colsample_bynode=None,\n",
       "              colsample_bytree=None, device=None, early_stopping_rounds=None,\n",
       "              enable_categorical=False, eval_metric=None, feature_types=None,\n",
       "              gamma=None, grow_policy=None, importance_type=None,\n",
       "              interaction_constraints=None, learning_rate=0.1, max_bin=None,\n",
       "              max_cat_threshold=None, max_cat_to_onehot=None,\n",
       "              max_delta_step=None, max_depth=40, max_leaves=None,\n",
       "              min_child_weight=None, missing=nan, monotone_constraints=None,\n",
       "              multi_strategy=None, n_estimators=300, n_jobs=None,\n",
       "              num_parallel_tree=None, random_state=None, ...)</pre></div></div></div></div></div></div></div>"
      ],
      "text/plain": [
       "Pipeline(steps=[('pca', PCA(n_components=314)),\n",
       "                ('svc',\n",
       "                 XGBClassifier(base_score=None, booster=None, callbacks=None,\n",
       "                               colsample_bylevel=None, colsample_bynode=None,\n",
       "                               colsample_bytree=None, device=None,\n",
       "                               early_stopping_rounds=None,\n",
       "                               enable_categorical=False, eval_metric=None,\n",
       "                               feature_types=None, gamma=None, grow_policy=None,\n",
       "                               importance_type=None,\n",
       "                               interaction_constraints=None, learning_rate=0.1,\n",
       "                               max_bin=None, max_cat_threshold=None,\n",
       "                               max_cat_to_onehot=None, max_delta_step=None,\n",
       "                               max_depth=40, max_leaves=None,\n",
       "                               min_child_weight=None, missing=nan,\n",
       "                               monotone_constraints=None, multi_strategy=None,\n",
       "                               n_estimators=300, n_jobs=None,\n",
       "                               num_parallel_tree=None, random_state=None, ...))])"
      ]
     },
     "execution_count": 40,
     "metadata": {},
     "output_type": "execute_result"
    }
   ],
   "source": [
    "pipe.fit(X_train, y_train)"
   ]
  },
  {
   "cell_type": "markdown",
   "metadata": {},
   "source": [
    "# Resultados del modelo\n",
    "<hr>"
   ]
  },
  {
   "cell_type": "code",
   "execution_count": 41,
   "metadata": {},
   "outputs": [],
   "source": [
    "y_predicha = pipe.predict(X_test)"
   ]
  },
  {
   "cell_type": "code",
   "execution_count": 42,
   "metadata": {},
   "outputs": [
    {
     "name": "stdout",
     "output_type": "stream",
     "text": [
      "Accuracy 0.868\n",
      "Recall 0.868\n",
      "precision 0.868\n",
      "f1 0.866\n"
     ]
    }
   ],
   "source": [
    "#Calcular estadísticos\n",
    "accuracy = accuracy_score(y_test, y_predicha)\n",
    "recall = recall_score(y_test, y_predicha, average='weighted')\n",
    "precision = precision_score(y_test, y_predicha, average='weighted')\n",
    "f1 = f1_score(y_test, y_predicha, average='weighted')\n",
    "print(\"Accuracy\", round(accuracy, 3))\n",
    "print(\"Recall\", round(recall, 3))\n",
    "print(\"precision\", round(precision,3))\n",
    "print(\"f1\", round(f1,3))"
   ]
  },
  {
   "cell_type": "code",
   "execution_count": 43,
   "metadata": {},
   "outputs": [],
   "source": [
    "y_entrenamiento = pipe.predict(X_train)"
   ]
  },
  {
   "cell_type": "code",
   "execution_count": 44,
   "metadata": {},
   "outputs": [
    {
     "name": "stdout",
     "output_type": "stream",
     "text": [
      "Accuracy 0.983\n",
      "Recall 0.983\n",
      "precision 1.0\n",
      "f1 0.983\n"
     ]
    }
   ],
   "source": [
    "accuracy = accuracy_score(y_train, y_entrenamiento)\n",
    "recall = recall_score(y_train, y_entrenamiento, average='weighted')\n",
    "precision = precision_score(y_entrenamiento, y_entrenamiento, average='weighted')\n",
    "f1 = f1_score(y_train, y_entrenamiento, average='weighted')\n",
    "print(\"Accuracy\", round(accuracy, 3))\n",
    "print(\"Recall\", round(recall, 3))\n",
    "print(\"precision\", round(precision,3))\n",
    "print(\"f1\", round(f1,3))"
   ]
  },
  {
   "cell_type": "markdown",
   "metadata": {},
   "source": [
    "# Confusion Matrix\n",
    "<hr>"
   ]
  },
  {
   "cell_type": "code",
   "execution_count": 45,
   "metadata": {},
   "outputs": [],
   "source": [
    "from sklearn.metrics import confusion_matrix\n",
    "import seaborn as sns"
   ]
  },
  {
   "cell_type": "code",
   "execution_count": 46,
   "metadata": {},
   "outputs": [],
   "source": [
    "mat = confusion_matrix(y_predicha, y_test)"
   ]
  },
  {
   "cell_type": "code",
   "execution_count": 48,
   "metadata": {},
   "outputs": [
    {
     "data": {
      "text/plain": [
       "<Axes: >"
      ]
     },
     "execution_count": 48,
     "metadata": {},
     "output_type": "execute_result"
    },
    {
     "data": {
      "image/png": "[encoded data removed]",
      "text/plain": [
       "<Figure size 640x480 with 1 Axes>"
      ]
     },
     "metadata": {},
     "output_type": "display_data"
    }
   ],
   "source": [
    "sns.heatmap(mat.T, square=True, annot=True, fmt='d', cbar = False, xticklabels=df[\"BBB+/BBB-\"].value_counts().index, yticklabels=df[\"BBB+/BBB-\"].value_counts().index)"
   ]
  },
  {
   "cell_type": "markdown",
   "metadata": {},
   "source": [
    "# Guardar modelo\n",
    "<hr>"
   ]
  },
  {
   "cell_type": "code",
   "execution_count": 49,
   "metadata": {},
   "outputs": [],
   "source": [
    "import joblib"
   ]
  },
  {
   "cell_type": "code",
   "execution_count": 50,
   "metadata": {},
   "outputs": [
    {
     "data": {
      "text/plain": [
       "['../Guardado de modelos/modelo_XGBoost.joblib']"
      ]
     },
     "execution_count": 50,
     "metadata": {},
     "output_type": "execute_result"
    }
   ],
   "source": [
    "joblib.dump(pipe, '../Guardado de modelos/modelo_XGBoost.joblib')"
   ]
  },
  {
   "cell_type": "code",
   "execution_count": null,
   "metadata": {},
   "outputs": [],
   "source": []
  }
 ],
 "metadata": {
  "kernelspec": {
   "display_name": "Python 3",
   "language": "python",
   "name": "python3"
  },
  "language_info": {
   "codemirror_mode": {
    "name": "ipython",
    "version": 3
   },
   "file_extension": ".py",
   "mimetype": "text/x-python",
   "name": "python",
   "nbconvert_exporter": "python",
   "pygments_lexer": "ipython3",
   "version": "3.11.0"
  }
 },
 "nbformat": 4,
 "nbformat_minor": 2
}
