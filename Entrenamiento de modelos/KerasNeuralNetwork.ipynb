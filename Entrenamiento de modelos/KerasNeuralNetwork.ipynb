{
 "cells": [
  {
   "cell_type": "code",
   "execution_count": 31,
   "metadata": {},
   "outputs": [],
   "source": [
    "import numpy as np\n",
    "from keras.models import Sequential\n",
    "from keras.layers import Dense, Dropout, BatchNormalization\n",
    "from keras.optimizers import Adam\n",
    "from sklearn.model_selection import train_test_split\n",
    "from sklearn.preprocessing import StandardScaler\n",
    "from sklearn.preprocessing import LabelEncoder\n",
    "import pandas as pd"
   ]
  },
  {
   "cell_type": "code",
   "execution_count": 32,
   "metadata": {},
   "outputs": [],
   "source": [
    "df = pd.read_csv(\"../Datos tratados/Datos_con_ECFP.csv\")"
   ]
  },
  {
   "cell_type": "code",
   "execution_count": 33,
   "metadata": {},
   "outputs": [],
   "source": [
    "X = df.drop(columns=[\"MorganFP\", \"SMILES\",\"BBB+/BBB-\", \"group\"])\n",
    "y = df[\"BBB+/BBB-\"]"
   ]
  },
  {
   "cell_type": "code",
   "execution_count": 34,
   "metadata": {},
   "outputs": [],
   "source": [
    "labelencoder = LabelEncoder()"
   ]
  },
  {
   "cell_type": "code",
   "execution_count": 35,
   "metadata": {},
   "outputs": [],
   "source": [
    "y_train_encoded = labelencoder.fit_transform(y)"
   ]
  },
  {
   "cell_type": "code",
   "execution_count": 36,
   "metadata": {},
   "outputs": [
    {
     "data": {
      "text/plain": [
       "array([1, 1, 1, ..., 0, 1, 1])"
      ]
     },
     "execution_count": 36,
     "metadata": {},
     "output_type": "execute_result"
    }
   ],
   "source": [
    "y_train_encoded"
   ]
  },
  {
   "cell_type": "code",
   "execution_count": 37,
   "metadata": {},
   "outputs": [],
   "source": [
    "X_train, X_test, y_train, y_test = train_test_split(X, y_train_encoded, test_size=0.2, random_state=42)"
   ]
  },
  {
   "cell_type": "code",
   "execution_count": 38,
   "metadata": {},
   "outputs": [],
   "source": [
    "model = Sequential()"
   ]
  },
  {
   "cell_type": "code",
   "execution_count": 39,
   "metadata": {},
   "outputs": [],
   "source": [
    "model.add(Dense(1024, input_shape=(2048,), activation='relu'))\n",
    "model.add(BatchNormalization())\n",
    "model.add(Dropout(0.4))  # Aumento de la tasa de Dropout"
   ]
  },
  {
   "cell_type": "code",
   "execution_count": 40,
   "metadata": {},
   "outputs": [],
   "source": [
    "# Capa oculta\n",
    "model.add(Dense(128, activation='relu'))\n",
    "model.add(BatchNormalization())\n",
    "model.add(Dropout(0.4))  # Aumento de la tasa de Dropout"
   ]
  },
  {
   "cell_type": "code",
   "execution_count": 41,
   "metadata": {},
   "outputs": [],
   "source": [
    "# Otra capa oculta\n",
    "model.add(Dense(64, activation='relu'))\n",
    "model.add(BatchNormalization())\n",
    "model.add(Dropout(0.4))  # Aumento de la tasa de Dropout"
   ]
  },
  {
   "cell_type": "code",
   "execution_count": 42,
   "metadata": {},
   "outputs": [],
   "source": [
    "# Otra capa oculta\n",
    "model.add(Dense(32, activation='relu'))\n",
    "model.add(BatchNormalization())\n",
    "model.add(Dropout(0.4))  # Aumento de la tasa de Dropout"
   ]
  },
  {
   "cell_type": "code",
   "execution_count": 43,
   "metadata": {},
   "outputs": [],
   "source": [
    "# Capa de salida para clasificación binaria\n",
    "model.add(Dense(1, activation='sigmoid'))"
   ]
  },
  {
   "cell_type": "code",
   "execution_count": 44,
   "metadata": {},
   "outputs": [],
   "source": [
    "optimizer = Adam(learning_rate=0.0005)  # Reducir la tasa de aprendizaje\n",
    "model.compile(optimizer=optimizer, \n",
    "              loss='binary_crossentropy', \n",
    "              metrics=['accuracy'])"
   ]
  },
  {
   "cell_type": "code",
   "execution_count": 45,
   "metadata": {},
   "outputs": [
    {
     "name": "stdout",
     "output_type": "stream",
     "text": [
      "Epoch 1/50\n",
      "196/196 [==============================] - 9s 27ms/step - loss: 0.5750 - accuracy: 0.7179 - val_loss: 0.4878 - val_accuracy: 0.7804\n",
      "Epoch 2/50\n",
      "196/196 [==============================] - 4s 21ms/step - loss: 0.4214 - accuracy: 0.8114 - val_loss: 0.3727 - val_accuracy: 0.8163\n",
      "Epoch 3/50\n",
      "196/196 [==============================] - 3s 14ms/step - loss: 0.3461 - accuracy: 0.8544 - val_loss: 0.3306 - val_accuracy: 0.8457\n",
      "Epoch 4/50\n",
      "196/196 [==============================] - 4s 19ms/step - loss: 0.2912 - accuracy: 0.8820 - val_loss: 0.3134 - val_accuracy: 0.8553\n",
      "Epoch 5/50\n",
      "196/196 [==============================] - 3s 15ms/step - loss: 0.2458 - accuracy: 0.9058 - val_loss: 0.3247 - val_accuracy: 0.8713\n",
      "Epoch 6/50\n",
      "196/196 [==============================] - 3s 16ms/step - loss: 0.2214 - accuracy: 0.9203 - val_loss: 0.3252 - val_accuracy: 0.8656\n",
      "Epoch 7/50\n",
      "196/196 [==============================] - 3s 15ms/step - loss: 0.1950 - accuracy: 0.9292 - val_loss: 0.3401 - val_accuracy: 0.8649\n",
      "Epoch 8/50\n",
      "196/196 [==============================] - 3s 15ms/step - loss: 0.1677 - accuracy: 0.9417 - val_loss: 0.3598 - val_accuracy: 0.8732\n",
      "Epoch 9/50\n",
      "196/196 [==============================] - 3s 15ms/step - loss: 0.1590 - accuracy: 0.9452 - val_loss: 0.3789 - val_accuracy: 0.8732\n",
      "Epoch 10/50\n",
      "196/196 [==============================] - 3s 15ms/step - loss: 0.1455 - accuracy: 0.9500 - val_loss: 0.3843 - val_accuracy: 0.8694\n",
      "Epoch 11/50\n",
      "196/196 [==============================] - 4s 19ms/step - loss: 0.1360 - accuracy: 0.9532 - val_loss: 0.3954 - val_accuracy: 0.8707\n",
      "Epoch 12/50\n",
      "196/196 [==============================] - 5s 24ms/step - loss: 0.1262 - accuracy: 0.9582 - val_loss: 0.4097 - val_accuracy: 0.8732\n",
      "Epoch 13/50\n",
      "196/196 [==============================] - 4s 18ms/step - loss: 0.1373 - accuracy: 0.9508 - val_loss: 0.4045 - val_accuracy: 0.8688\n",
      "Epoch 14/50\n",
      "196/196 [==============================] - 4s 23ms/step - loss: 0.1255 - accuracy: 0.9553 - val_loss: 0.4259 - val_accuracy: 0.8630\n",
      "Epoch 15/50\n",
      "196/196 [==============================] - 4s 23ms/step - loss: 0.1198 - accuracy: 0.9593 - val_loss: 0.4119 - val_accuracy: 0.8668\n",
      "Epoch 16/50\n",
      "196/196 [==============================] - 4s 20ms/step - loss: 0.1209 - accuracy: 0.9577 - val_loss: 0.4332 - val_accuracy: 0.8726\n",
      "Epoch 17/50\n",
      "196/196 [==============================] - 3s 15ms/step - loss: 0.1052 - accuracy: 0.9619 - val_loss: 0.4481 - val_accuracy: 0.8771\n",
      "Epoch 18/50\n",
      "196/196 [==============================] - 3s 15ms/step - loss: 0.1163 - accuracy: 0.9576 - val_loss: 0.4269 - val_accuracy: 0.8822\n",
      "Epoch 19/50\n",
      "196/196 [==============================] - 3s 15ms/step - loss: 0.1052 - accuracy: 0.9633 - val_loss: 0.4401 - val_accuracy: 0.8758\n",
      "Epoch 20/50\n",
      "196/196 [==============================] - 3s 15ms/step - loss: 0.0979 - accuracy: 0.9653 - val_loss: 0.4706 - val_accuracy: 0.8707\n",
      "Epoch 21/50\n",
      "196/196 [==============================] - 3s 16ms/step - loss: 0.1041 - accuracy: 0.9635 - val_loss: 0.4810 - val_accuracy: 0.8700\n",
      "Epoch 22/50\n",
      "196/196 [==============================] - 3s 18ms/step - loss: 0.0924 - accuracy: 0.9685 - val_loss: 0.5030 - val_accuracy: 0.8707\n",
      "Epoch 23/50\n",
      "196/196 [==============================] - 3s 15ms/step - loss: 0.1087 - accuracy: 0.9632 - val_loss: 0.4827 - val_accuracy: 0.8758\n",
      "Epoch 24/50\n",
      "196/196 [==============================] - 3s 15ms/step - loss: 0.0885 - accuracy: 0.9665 - val_loss: 0.4827 - val_accuracy: 0.8732\n",
      "Epoch 25/50\n",
      "196/196 [==============================] - 3s 17ms/step - loss: 0.0946 - accuracy: 0.9654 - val_loss: 0.5069 - val_accuracy: 0.8745\n",
      "Epoch 26/50\n",
      "196/196 [==============================] - 3s 16ms/step - loss: 0.0914 - accuracy: 0.9659 - val_loss: 0.5064 - val_accuracy: 0.8771\n",
      "Epoch 27/50\n",
      "196/196 [==============================] - 3s 15ms/step - loss: 0.0949 - accuracy: 0.9641 - val_loss: 0.5147 - val_accuracy: 0.8713\n",
      "Epoch 28/50\n",
      "196/196 [==============================] - 3s 16ms/step - loss: 0.0995 - accuracy: 0.9627 - val_loss: 0.5156 - val_accuracy: 0.8726\n",
      "Epoch 29/50\n",
      "196/196 [==============================] - 3s 15ms/step - loss: 0.0898 - accuracy: 0.9689 - val_loss: 0.5339 - val_accuracy: 0.8668\n",
      "Epoch 30/50\n",
      "196/196 [==============================] - 3s 16ms/step - loss: 0.0924 - accuracy: 0.9646 - val_loss: 0.5338 - val_accuracy: 0.8720\n",
      "Epoch 31/50\n",
      "196/196 [==============================] - 3s 15ms/step - loss: 0.0825 - accuracy: 0.9701 - val_loss: 0.5611 - val_accuracy: 0.8713\n",
      "Epoch 32/50\n",
      "196/196 [==============================] - 3s 16ms/step - loss: 0.0904 - accuracy: 0.9645 - val_loss: 0.5463 - val_accuracy: 0.8732\n",
      "Epoch 33/50\n",
      "196/196 [==============================] - 3s 16ms/step - loss: 0.0815 - accuracy: 0.9693 - val_loss: 0.5526 - val_accuracy: 0.8745\n",
      "Epoch 34/50\n",
      "196/196 [==============================] - 3s 15ms/step - loss: 0.0830 - accuracy: 0.9673 - val_loss: 0.5665 - val_accuracy: 0.8758\n",
      "Epoch 35/50\n",
      "196/196 [==============================] - 3s 17ms/step - loss: 0.0776 - accuracy: 0.9726 - val_loss: 0.5685 - val_accuracy: 0.8758\n",
      "Epoch 36/50\n",
      "196/196 [==============================] - 3s 14ms/step - loss: 0.0815 - accuracy: 0.9699 - val_loss: 0.5457 - val_accuracy: 0.8720\n",
      "Epoch 37/50\n",
      "196/196 [==============================] - 3s 16ms/step - loss: 0.0803 - accuracy: 0.9691 - val_loss: 0.5489 - val_accuracy: 0.8681\n",
      "Epoch 38/50\n",
      "196/196 [==============================] - 3s 16ms/step - loss: 0.0766 - accuracy: 0.9699 - val_loss: 0.5825 - val_accuracy: 0.8720\n",
      "Epoch 39/50\n",
      "196/196 [==============================] - 3s 16ms/step - loss: 0.0857 - accuracy: 0.9683 - val_loss: 0.5600 - val_accuracy: 0.8758\n",
      "Epoch 40/50\n",
      "196/196 [==============================] - 3s 17ms/step - loss: 0.0677 - accuracy: 0.9739 - val_loss: 0.5724 - val_accuracy: 0.8803\n",
      "Epoch 41/50\n",
      "196/196 [==============================] - 3s 16ms/step - loss: 0.0777 - accuracy: 0.9704 - val_loss: 0.5849 - val_accuracy: 0.8732\n",
      "Epoch 42/50\n",
      "196/196 [==============================] - 3s 16ms/step - loss: 0.0814 - accuracy: 0.9664 - val_loss: 0.5996 - val_accuracy: 0.8681\n",
      "Epoch 43/50\n",
      "196/196 [==============================] - 3s 16ms/step - loss: 0.0787 - accuracy: 0.9705 - val_loss: 0.5855 - val_accuracy: 0.8790\n",
      "Epoch 44/50\n",
      "196/196 [==============================] - 3s 17ms/step - loss: 0.0727 - accuracy: 0.9707 - val_loss: 0.5975 - val_accuracy: 0.8713\n",
      "Epoch 45/50\n",
      "196/196 [==============================] - 3s 17ms/step - loss: 0.0762 - accuracy: 0.9704 - val_loss: 0.5805 - val_accuracy: 0.8739\n",
      "Epoch 46/50\n",
      "196/196 [==============================] - 3s 15ms/step - loss: 0.0716 - accuracy: 0.9733 - val_loss: 0.5796 - val_accuracy: 0.8758\n",
      "Epoch 47/50\n",
      "196/196 [==============================] - 3s 17ms/step - loss: 0.0745 - accuracy: 0.9734 - val_loss: 0.5724 - val_accuracy: 0.8771\n",
      "Epoch 48/50\n",
      "196/196 [==============================] - 3s 16ms/step - loss: 0.0689 - accuracy: 0.9731 - val_loss: 0.5835 - val_accuracy: 0.8726\n",
      "Epoch 49/50\n",
      "196/196 [==============================] - 4s 20ms/step - loss: 0.0736 - accuracy: 0.9697 - val_loss: 0.5710 - val_accuracy: 0.8720\n",
      "Epoch 50/50\n",
      "196/196 [==============================] - 3s 16ms/step - loss: 0.0691 - accuracy: 0.9736 - val_loss: 0.5858 - val_accuracy: 0.8726\n"
     ]
    }
   ],
   "source": [
    "# Entrena el modelo\n",
    "history = model.fit(X_train, y_train, \n",
    "                    validation_data=(X_test, y_test), \n",
    "                    epochs=50, \n",
    "                    batch_size=32, \n",
    "                    verbose=1)"
   ]
  },
  {
   "cell_type": "code",
   "execution_count": 46,
   "metadata": {},
   "outputs": [],
   "source": [
    "from sklearn.metrics import classification_report, accuracy_score\n",
    "from sklearn.preprocessing import LabelEncoder\n",
    "from sklearn.metrics import accuracy_score\n",
    "from sklearn.metrics import recall_score\n",
    "from sklearn.metrics import precision_score\n",
    "from sklearn.metrics import f1_score"
   ]
  },
  {
   "cell_type": "code",
   "execution_count": 47,
   "metadata": {},
   "outputs": [
    {
     "name": "stdout",
     "output_type": "stream",
     "text": [
      "49/49 [==============================] - 0s 4ms/step\n"
     ]
    }
   ],
   "source": [
    "y_predicha = model.predict(X_test)"
   ]
  },
  {
   "cell_type": "code",
   "execution_count": 48,
   "metadata": {},
   "outputs": [],
   "source": [
    "y_predicha\n",
    "y_predicha = (y_predicha > 0.5).astype(int).flatten()  # Convertir probabilidades a etiquetas binarias"
   ]
  },
  {
   "cell_type": "code",
   "execution_count": 49,
   "metadata": {},
   "outputs": [
    {
     "name": "stdout",
     "output_type": "stream",
     "text": [
      "Accuracy 0.873\n",
      "Recall 0.873\n",
      "precision 0.872\n",
      "f1 0.872\n"
     ]
    }
   ],
   "source": [
    "#Calcular estadísticos\n",
    "accuracy = accuracy_score(y_test, y_predicha)\n",
    "recall = recall_score(y_test, y_predicha, average='weighted')\n",
    "precision = precision_score(y_test, y_predicha, average='weighted')\n",
    "f1 = f1_score(y_test, y_predicha, average='weighted')\n",
    "print(\"Accuracy\", round(accuracy, 3))\n",
    "print(\"Recall\", round(recall, 3))\n",
    "print(\"precision\", round(precision,3))\n",
    "print(\"f1\", round(f1,3))"
   ]
  },
  {
   "cell_type": "code",
   "execution_count": null,
   "metadata": {},
   "outputs": [],
   "source": []
  }
 ],
 "metadata": {
  "kernelspec": {
   "display_name": "Python 3",
   "language": "python",
   "name": "python3"
  },
  "language_info": {
   "codemirror_mode": {
    "name": "ipython",
    "version": 3
   },
   "file_extension": ".py",
   "mimetype": "text/x-python",
   "name": "python",
   "nbconvert_exporter": "python",
   "pygments_lexer": "ipython3",
   "version": "3.11.0"
  }
 },
 "nbformat": 4,
 "nbformat_minor": 2
}
